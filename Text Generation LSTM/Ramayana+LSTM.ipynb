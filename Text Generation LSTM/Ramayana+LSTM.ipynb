{
 "cells": [
  {
   "cell_type": "code",
   "execution_count": 1,
   "metadata": {},
   "outputs": [
    {
     "name": "stderr",
     "output_type": "stream",
     "text": [
      "/anaconda/lib/python3.6/site-packages/h5py/__init__.py:36: FutureWarning: Conversion of the second argument of issubdtype from `float` to `np.floating` is deprecated. In future, it will be treated as `np.float64 == np.dtype(float).type`.\n",
      "  from ._conv import register_converters as _register_converters\n",
      "Using TensorFlow backend.\n"
     ]
    }
   ],
   "source": [
    "#### importing dependencies\n",
    "\n",
    "from __future__ import print_function\n",
    "from keras.callbacks import LambdaCallback\n",
    "from keras.models import Model, load_model, Sequential, model_from_yaml # to save our weights and load the pre-trained weights model\n",
    "from keras.layers import Dense, Activation, Dropout, Input, Masking\n",
    "from keras.layers import LSTM\n",
    "from keras.optimizers import RMSprop\n",
    "from keras.utils.data_utils import get_file\n",
    "from keras.preprocessing.sequence import pad_sequences\n",
    "import numpy as np\n",
    "import random\n",
    "import sys\n",
    "import io"
   ]
  },
  {
   "cell_type": "code",
   "execution_count": 2,
   "metadata": {
    "collapsed": true
   },
   "outputs": [],
   "source": [
    "#### Importing the dataset\n",
    "\n",
    "def read_data(path):\n",
    "    print(\"Loading text data...\")\n",
    "    text = io.open(path, encoding='utf-8').read().lower()\n",
    "    print(\"Done.\")\n",
    "    print(\"Corpus Length:\", len(text))\n",
    "    \n",
    "    return text"
   ]
  },
  {
   "cell_type": "code",
   "execution_count": 3,
   "metadata": {},
   "outputs": [
    {
     "name": "stdout",
     "output_type": "stream",
     "text": [
      "Loading text data...\n",
      "Done.\n",
      "Corpus Length: 360663\n"
     ]
    }
   ],
   "source": [
    "text=read_data('threemenboat.txt')"
   ]
  },
  {
   "cell_type": "code",
   "execution_count": 4,
   "metadata": {},
   "outputs": [
    {
     "name": "stdout",
     "output_type": "stream",
     "text": [
      "number of unique characters in the corpus: 60\n"
     ]
    }
   ],
   "source": [
    "#### Calculating the number of characters stored and building the c_to_i dictionary\n",
    "\n",
    "chars=sorted(list(set(text)))\n",
    "\n",
    "print('number of unique characters in the corpus:', len(chars))\n",
    "\n",
    "char_indices = dict((c, i) for i, c in enumerate(chars))\n",
    "indices_char = dict((i, c) for i, c in enumerate(chars))\n",
    "\n",
    "Tx = 40 # sequence length"
   ]
  },
  {
   "cell_type": "code",
   "execution_count": 5,
   "metadata": {
    "collapsed": true
   },
   "outputs": [],
   "source": [
    "#### Helper functions to build (train examples & labels) the dataset & vectorize it\n",
    "\n",
    "def build_data(text, Tx = 40, steps = 3):\n",
    "    \"\"\"Create a training set by scanning a window of size Tx over the text corpus, with a stride of 3.\"\"\"\n",
    "    X = [] # training examples (list)\n",
    "    Y = [] # training labels (list)\n",
    "    for i in range(0, len(text) - Tx, steps):\n",
    "        X.append(text[i: i + Tx])\n",
    "        Y.append(text[i + Tx])\n",
    "    print('number of training examples:', len(X))\n",
    "    return X, Y\n",
    "\n",
    "\n",
    "def vectorization(X, Y, n_x, char_indices, Tx = 40):\n",
    "    \"\"\"Convert X and Y (lists) into arrays to be given to a recurrent neural network.\"\"\"\n",
    "    \n",
    "    m = len(X)\n",
    "    x = np.zeros((m, Tx, n_x), dtype=np.bool) # array of shape (m, Tx, len(chars))\n",
    "    y = np.zeros((m, n_x), dtype=np.bool) # array of shape (m, len(chars))\n",
    "    for i, sentence in enumerate(X):\n",
    "        for t, char in enumerate(sentence):\n",
    "            x[i, t, char_indices[char]] = 1\n",
    "        y[i, char_indices[Y[i]]] = 1\n",
    "        \n",
    "    return x, y \n",
    "\n",
    "\n",
    "def sample(preds, temperature=1.0):\n",
    "    # helper function to sample an index from a probability array\n",
    "    preds = np.asarray(preds).astype('float64')\n",
    "    preds = np.log(preds) / temperature\n",
    "    exp_preds = np.exp(preds)\n",
    "    preds = exp_preds / np.sum(exp_preds)\n",
    "    probas = np.random.multinomial(1, preds, 1)\n",
    "    out = np.random.choice(range(len(chars)), p = probas.ravel())\n",
    "    return out\n",
    "    "
   ]
  },
  {
   "cell_type": "code",
   "execution_count": 6,
   "metadata": {},
   "outputs": [
    {
     "name": "stdout",
     "output_type": "stream",
     "text": [
      "number of training examples: 120208\n"
     ]
    }
   ],
   "source": [
    "#### Building the data and Vectorizing it\n",
    "\n",
    "X, Y = build_data(text, Tx=40, steps=3)\n",
    "x, y = vectorization(X, Y, n_x = len(chars), char_indices = char_indices)\n"
   ]
  },
  {
   "cell_type": "code",
   "execution_count": 7,
   "metadata": {},
   "outputs": [
    {
     "name": "stdout",
     "output_type": "stream",
     "text": [
      "Build model...\n",
      "WARNING:tensorflow:From /anaconda/lib/python3.6/site-packages/keras/backend/tensorflow_backend.py:1238: calling reduce_sum (from tensorflow.python.ops.math_ops) with keep_dims is deprecated and will be removed in a future version.\n",
      "Instructions for updating:\n",
      "keep_dims is deprecated, use keepdims instead\n",
      "WARNING:tensorflow:From /anaconda/lib/python3.6/site-packages/keras/backend/tensorflow_backend.py:1340: calling reduce_mean (from tensorflow.python.ops.math_ops) with keep_dims is deprecated and will be removed in a future version.\n",
      "Instructions for updating:\n",
      "keep_dims is deprecated, use keepdims instead\n"
     ]
    }
   ],
   "source": [
    "#### Defining the Model\n",
    "\n",
    "print('Build model...')\n",
    "model = Sequential()\n",
    "model.add(LSTM(128, input_shape=(Tx, len(chars))))\n",
    "model.add(Dense(len(chars)))\n",
    "model.add(Activation('softmax'))\n",
    "\n",
    "optimizer = RMSprop(lr=0.01)\n",
    "model.compile(loss='categorical_crossentropy', optimizer=optimizer)"
   ]
  },
  {
   "cell_type": "code",
   "execution_count": 8,
   "metadata": {
    "collapsed": true
   },
   "outputs": [],
   "source": [
    "#### Function invoked at end of each epoch. Prints generated text.\n",
    "\n",
    "def on_epoch_end(epoch, logs, maxlen=Tx):\n",
    "    print()\n",
    "    print('----- Generating text after Epoch: %d' % epoch)\n",
    "\n",
    "    start_index = random.randint(0, len(text) - maxlen - 1)\n",
    "    diversity=0.4\n",
    "\n",
    "    generated = ''\n",
    "    sentence = text[start_index: start_index + maxlen]\n",
    "    #usr_input = input(\"Write the beginning sentence and machine will complete it. Your input is: \")\n",
    "    # zero pad the sentence to Tx characters.\n",
    "    #sentence = ('{0:0>' + str(Tx) + '}').format(usr_input).lower()\n",
    "    #generated += usr_input\n",
    "    generated += sentence\n",
    "    print('----- Generating with seed: \"' + sentence + '\"')\n",
    "    sys.stdout.write(generated)\n",
    "\n",
    "    for i in range(1000):\n",
    "        x_pred = np.zeros((1, maxlen, len(chars)))\n",
    "        for t, char in enumerate(sentence):\n",
    "            x_pred[0, t, char_indices[char]] = 1.\n",
    "\n",
    "        preds = model.predict(x_pred, verbose=0)[0]\n",
    "        next_index = sample(preds, diversity)\n",
    "        next_char = indices_char[next_index]\n",
    "\n",
    "        generated += next_char\n",
    "        sentence = sentence[1:] + next_char\n",
    "\n",
    "        sys.stdout.write(next_char)\n",
    "        sys.stdout.flush()\n",
    "        \n",
    "        if next_char == '\\n':\n",
    "            continue"
   ]
  },
  {
   "cell_type": "code",
   "execution_count": 9,
   "metadata": {},
   "outputs": [
    {
     "name": "stdout",
     "output_type": "stream",
     "text": [
      "Epoch 1/18\n",
      "120192/120208 [============================>.] - ETA: 0s - loss: 2.0815\n",
      "----- Generating text after Epoch: 0\n",
      "----- Generating with seed: \"g out with me.\n",
      "\n",
      "it seemed an excessive p\"\n",
      "g out with me.\n",
      "\n",
      "120208/120208 [==============================] - 72s 603us/step - loss: 2.0815e had dot letter of any the had he started on the come to the had one so get and we had he had dight, and streen the have had it made of the had he had bet the harris of the have harris said.  i cet and the the have me the harris of the harris of and this me, and mate we had of the harr stree of and the had were seem the have and he had one and stear and were to her of it was and we had harris man in the harris the had he had bet me-lidetered of him and the were he had he had and you had harris and was becone with houle harris to all the were steary so the harrid in the have still out of the have he were and hand it sover the have he had it as the harris for the startion have the have harris done to the seed the harriss, and the had have said the had the have of the have the have and we had he was man in the have he had my, and starr of and stroung to we had meent.  the had mone our the harris of the has the were were to dive and s\n",
      "Epoch 2/18\n",
      "120192/120208 [============================>.] - ETA: 0s - loss: 1.7279\n",
      "----- Generating text after Epoch: 1\n",
      "----- Generating with seed: \"r a walk.—return hungry and\n",
      "    wet.—the\"\n",
      "r a walk.—return hungry and\n",
      "    wet.—the river the barger and bearted at the carver seemed the barned said, and prepered all the barnose the barting heards to see and have the bath and have be my trie a pitter the barting hom the river in the corver the seeted up all the barnoman and streemed the river a mady beard and the bridght to be been at my the take a seemen the tark any dring a perther of him a of the priet the boat a bed her seemed be sure the bricking up the live a firiday, and the balking did gear mist and soat the bill the river been there fell for the boat i have was beat shill get a man for the man was beting\n",
      "120208/120208 [==============================] - 74s 612us/step - loss: 1.7278nk, and i have be the boat the pirist the barges bearde of him did the body called him and to be the river as the marting distrings to the prist a cherong of the tard a gear george and the river for the boat from the parting of the fired the starter would get all the barned the corver the tame to cold may the bard as a boat of t\n",
      "Epoch 3/18\n",
      "120192/120208 [============================>.] - ETA: 0s - loss: 1.6138\n",
      "----- Generating text after Epoch: 2\n",
      "----- Generating with seed: \" open hill-sides and\n",
      "the deep woods well\"\n",
      " open hill-sides and\n",
      "120208/120208 [==============================] - 75s 625us/step - loss: 1.6139d the boat and shept of a looking working the river there wisher and the boat and where had see one the basing his cont, and we leashed the for heart of a bearth, and the boat was the start, and he was a man of the boat the boat and where the charge and he said he would have to have to sever the river said the ware were the sput, and there was the fool and there all the were was a still, and a solemod of the boy harris’s beging and these he would had there could get to harris and the straint, and somen that you can drow and being a bearth a for the warned and grow the boat with for the artice was supper the charge and for the way was the old man the spript a more the round of the were world and the more the shoper was a ther ward in the shops of the nawing him the spreasant the commaniness of the charge whole story that we were the shout of the for the some sole how that they would not want the boat the boat and a start of a b\n",
      "Epoch 4/18\n",
      "120192/120208 [============================>.] - ETA: 0s - loss: 1.5471\n",
      "----- Generating text after Epoch: 3\n",
      "----- Generating with seed: \"ern officials concerning such worldly th\"\n",
      "ern officials concerning such worldly the time the man the real and wake the chipper and seemed to the boat and the back the part of the startes to the pace at that been well, and became and bank of the sucked the boat and the all.  the reping that the boat the reams and came and same one the naters the some of the starter the boat of the lan of the boat of the steps and a boat of the stops and streat of the boat, and had the reat the regurther and the ream the walk and come of the bather and beat the waters and strange, and the people and there we should get the peraster, and the boat and the back the rect beat and stand of the river, and the river and the bank of the rame of the read of the came in the\n",
      "120208/120208 [==============================] - 76s 632us/step - loss: 1.5471at and comprant recide the rest at it of a let the thing and cat to the beness of the boat of the opperance and walked the streat of the near and a steer all of the for a a the bank and the man a treat of the thames and to get the song we were wel\n",
      "Epoch 5/18\n",
      "120192/120208 [============================>.] - ETA: 0s - loss: 1.5003\n",
      "----- Generating text after Epoch: 4\n",
      "----- Generating with seed: \"\n",
      "chair, lights his pipe, and commences t\"\n",
      "\n",
      "chair, lights his pipe, and commences the the man with the sent up the spoke and stoppens of sent of the boat and the man a consequant the boat as the boat and sweet intence the the some the us for the can straint, and laughed the sent.  the\n",
      "120208/120208 [==============================] - 76s 635us/step - loss: 1.5004hole the side the nervous into the morning when we said he had been some round the suns in the sent, and come to stand the wite to all the bares to have sail, i was in the thing, and then was not the morner into the hat.  the boat for the boat and charge and sand and half the side of the stop and stear him a sudders and water, and then siffing them and the but the use at it, and then and the bargant the fisher, and steam, and asked the started thing in the the boy the river the straing and church them out the boat and slent, and one something at the river, and the stand of him man was the town and the should the town the sunston, when the boat a came to the time side, and strain and the man what was a comman \n",
      "Epoch 6/18\n",
      "120192/120208 [============================>.] - ETA: 0s - loss: 1.4673\n",
      "----- Generating text after Epoch: 5\n",
      "----- Generating with seed: \"rself to\n",
      "charge us just three times the \"\n",
      "rself to\n",
      "charge us just three times the river not could be done thing in the mades the time the boat and ease, one when the replied the spond and get to the sweet past and common in the cornerssels, and a face being the boat\n",
      "120208/120208 [==============================] - 77s 637us/step - loss: 1.4674the bank for a walk and ten one of the river starders and stear fear the splange was with cless, and had been spreat the matter starned dear the spriem the river in the rught on the air and starding our parting the bank.  i won’t we went the started the mades the bather, and had stone speeper, and i am what stream and considet a poot that it was a centigias and everything and great when the time the river were was a bank.  i won’t be sure so must considiest one of the whiles round the consight to the water store up the sair, and had get out of the reading the boat of the conside of something and had been the lady to the rushing to start the complaining and spressive them the thing of early and fatien the starder the poor and w\n",
      "Epoch 7/18\n",
      "120192/120208 [============================>.] - ETA: 0s - loss: 1.4401\n",
      "----- Generating text after Epoch: 6\n",
      "----- Generating with seed: \"ething of that sort.  cæsar was a regula\"\n",
      "ething of that sort.  cæsar was a regular other, and the river, and a part of the way of the water the world be the party and the settley the busing cheesemen and the weet of the things and a street to the which are sail, and at exinter of the sail, and sound and the thing was been watercing to the thing and steer and the sight of the things in the party\n"
     ]
    },
    {
     "name": "stdout",
     "output_type": "stream",
     "text": [
      "120208/120208 [==============================] - 78s 646us/step - loss: 1.4401y and in the boat of the whole and the things and not been to the only thing in the morning to the seem the setcher and bury part of the still the gentle one is a look and bed such and which has father in a lother and we had had and the things and the sail all the steer, and the rest a part of the man which the things.  and the steer and in the setching to give the state things to the sight.  it was all the pills.  it was a boat in the stirt of the bottom the way and she could think it was a long and the things and as we had don’t can sound and the stand that i had see expect at the way and all th\n",
      "Epoch 8/18\n",
      "120192/120208 [============================>.] - ETA: 0s - loss: 1.4181\n",
      "----- Generating text after Epoch: 7\n",
      "----- Generating with seed: \"d twinkling watch-fires on\n",
      "each height a\"\n",
      "d twinkling watch-fires on\n",
      "each height and the man\n",
      "and the pain of the man a bank of the work put the cheeses and stating at the boat to be starding to the standing about a thing of the beard of the cortent man whishered into the\n",
      "station, and say the child, and the contenued the fail at the time it all steps into the stard of the lift of himself.  when the bather is a supper, and they went spearly getrit a sunger’s languar more that i stood, but the river strange there and the church.  it was not a man well look up the corning into the thing we started and to the consugst on the stard of the really were which he meanges of streat for which it was a man of the river in the real at the early would low to the cat to the river them that i can had been a she wanted at hearted there all a fight.  it was a chargaor and commons, and then the stand in the man a thing there was the commontly down there was sticky and chance of the\n",
      "120208/120208 [==============================] - 75s 626us/step - loss: 1.4181 at the boy after the man \n",
      "Epoch 9/18\n",
      "120192/120208 [============================>.] - ETA: 0s - loss: 1.3999\n",
      "----- Generating text after Epoch: 8\n",
      "----- Generating with seed: \"ny work there,” continued harris, “whene\"\n",
      "ny work there,” continued harris, “whene they said he had said there they said he had bead there was them, and they would take a comparton hample of montmorency things they was the morning and down them was a strain a most the stand before they said they was them, and then when i thought it all the samation.  they started a most that i have the stating a morning that he had said he had some i was a station, and they had not.\n",
      "\n",
      "“ah“h?” hardlation is a strain them, and is them, and what\n",
      "you wanking them on the bottom at the starter them, and they said he had seem they was a thing a walk at them and the bank.  he would be a modlem and a statement work them seemed so more and then heave that i thought they said he had got them.\n",
      "\n",
      "120208/120208 [==============================] - 78s 649us/step - loss: 1.3999 and they had seemed a most of them, and had the bendy and them was them that it was a boating thing that i was the coming and a nearly stage that i was the morning.  when it was a cold and which had said he had seemed a cat.  \n",
      "Epoch 10/18\n",
      "120192/120208 [============================>.] - ETA: 0s - loss: 1.3869\n",
      "----- Generating text after Epoch: 9\n",
      "----- Generating with seed: \" by no. 21, who happened to be on the\n",
      "st\"\n",
      " by no. 21, who happened to be on the\n",
      "station of the part of the struggles.  they was all the ready in the buritiphes, and harris a bead\n",
      "at his stands and was a compredind\n",
      "towards to say some that the boat and all the disculterness and man while it was a bath there was the little ready and seemed sightion and dien and said the boat in a more and asked the scoppere, we said:\n",
      "\n",
      "“what say that it was one struggless to it was here are said:\n",
      "\n",
      "120208/120208 [==============================] - 80s 663us/step - loss: 1.3869nd that they said he was a trie on the sail all rangle for the bathing of a little ready to be strong there was a complicked the wasting minutes of the boat in a good way one of the station.  he said he was getting at the straight change and the man when he did not see his all right at the sail when i did not cat some of the little carving afterneass of the sail us his party to sick at his more and the sundered ourselves and the straight of the boat and the sail short where the man who had wanted the boat in a litt\n",
      "Epoch 11/18\n",
      "120192/120208 [============================>.] - ETA: 0s - loss: 1.3737\n",
      "----- Generating text after Epoch: 10\n",
      "----- Generating with seed: \"auled down his watch.  it was a quarter-\"\n",
      "120208/120208 [==============================] - 78s 646us/step - loss: 1.3737an extrember of any to the bars of the sprighteney with the boat and a stream, and i wonderin the whole and looked the spot the pilly and the whole whole very the start of the orde and hearter of any and the spot of the sprights surpristang, and shad it is a called it, and the spearless of the wire and why will be a fear of the startenes simple of the end of his young to the sports and the river was walking on the boat that i had to passes the large and said he had been so a splacked and show him and why that he shout-prains, and supper, and had looked for the boat, and the discuse to hear up the river than it was a fack.  the river, and the thing we went the world the ferposs of the river was the time, and the prestice the river and the hamper and change of the river on the man who had forth shopper, you go out and what was a chicke that it was a face, and the sculls, and the corner that they could not a chair and shad startene that i have not do\n",
      "Epoch 12/18\n",
      "120192/120208 [============================>.] - ETA: 0s - loss: 1.3613\n",
      "----- Generating text after Epoch: 11\n",
      "----- Generating with seed: \"aid i didn’t\n",
      "care a hang whether the soa\"\n",
      "aid i didn’t\n",
      "120208/120208 [==============================] - 79s 655us/step - loss: 1.3613 launch, and strong at the way of the thing of the thing when you do go to the hole for the pole thing it was his laughing of the thing so the sunstand the river said—harris and some that some who had say and breakfast the marlon and sold and belt with its with the shore for the side at the boat and the side the state the shop air, and the river the shout of the some and a break the thing were so more said the discory and the proppence they were indesting the whole particular child like the wirld that we were come out the art chirting to the same way and then harris as he should love the respected the shad and the thing of a pot of a little such a good for a few out of the boat that they had to half a mile after the boat the childares.  it had some out of the boat and she said the time of the shop and boat the time the some fell and the thing what it was becoming after the river a stand the talks, and the boat and the spires.  it was \n",
      "Epoch 13/18\n",
      "120192/120208 [============================>.] - ETA: 0s - loss: 1.3526\n",
      "----- Generating text after Epoch: 12\n",
      "----- Generating with seed: \"ent_): “it’s all right.  you’re doing it\"\n",
      "ent_): “it’s all right.  you’re doing it to me.\n",
      "\n",
      "i did not go and made a more to have a catter and chappecting to the back and stard at a cab, and the ne-boat and stream of the mild, and the river and it was a more the sents in the some best and pair to shet the boat and the settly and george said the river in the boat"
     ]
    },
    {
     "name": "stderr",
     "output_type": "stream",
     "text": [
      "/anaconda/lib/python3.6/site-packages/ipykernel_launcher.py:31: RuntimeWarning: divide by zero encountered in log\n"
     ]
    },
    {
     "name": "stdout",
     "output_type": "stream",
     "text": [
      " once the river and had with the sword of the fate of the boat, and the took a fair four better up on the billing to do a more and shad in a most me to be a lother of the water of a pow of a famour of the standing to the bath the river would come offfactial passes come off.\n",
      "\n",
      "120208/120208 [==============================] - 89s 741us/step - loss: 1.3524and sand of a boat the great meat boat to me on the most me the discuse of the boat and shall, and she had a crick and said the boat and constitbods the senstance and sand down to the shad a champer, and said we were the setch for the boat and the seemed and be done of the boat and back and in the conse; but i shall do to be a moster for the river and said in the\n",
      "Epoch 14/18\n",
      "120192/120208 [============================>.] - ETA: 0s - loss: 1.3440\n",
      "----- Generating text after Epoch: 13\n",
      "----- Generating with seed: \"bs them, and, perhaps, amidst the gall,\n",
      "\"\n",
      "bs them, and, perhaps, amidst the gall,\n",
      "when the silently than we were the told the morning.  i got the cat of the bag of the first for the launch, and the stat and the steps of banks.  of cerves is a most that was a good than a word, the island, and the seat of a station and the gravely and made a faces, and had the barsset.  the secked for the boat and the man wanted the will really for the thing and the real of the river with the thiods and stepped the thing i wanted with the way that we said it was a boat and have packs, and the boat, and the boat after the bargance and the thing is a long of the margo to the hamper, and the beautten and then he would got the stander is a so somewhistion of bank of a little seem to the river down the seemens, and the town of he had the steps of the morning, and the world that i had the seemed about the margan seemed to a lady he with a most hurry, and the plocessels, and the senss and steen that they said it was a more than the thing we came and then the state was a good\n",
      "120208/120208 [==============================] - 81s 674us/step - loss: 1.3440\n",
      "Epoch 15/18\n",
      "120192/120208 [============================>.] - ETA: 0s - loss: 1.3334\n",
      "----- Generating text after Epoch: 14\n",
      "----- Generating with seed: \"see\n",
      "tombs—not your tombs.  why should i?\"\n",
      "see\n",
      "tombs—not your tombs.  why should i?”\n",
      "\n",
      "“and i have done the river the presence of the respect the straind the river and the read on the shock that i stook him in the standing him to pass the stream air, and then they seem the stall was the stard and starteness the discorted and the thing i should think it was a little stream on the boat and the work all the mother and the bed was his contented an air of the rail.\n",
      "\n",
      "120208/120208 [==============================] - 81s 672us/step - loss: 1.3334treams on the time of the morning, and they are not in the things we murt for the river the boat and the morning and the lock in the large the ready.  i should look at the shappen and look at the pie was the water the stream and the stop in the sight at one for the bank of the river we were the boat and they want to his hand i are makes and had say he was his low fellow when he said the river the river the things they would not came to in the boat and the bank.  i did not expect the river it was the river the stall like the thing it \n",
      "Epoch 16/18\n",
      "120192/120208 [============================>.] - ETA: 0s - loss: 1.3258\n",
      "----- Generating text after Epoch: 15\n",
      "----- Generating with seed: \"\n",
      "boat was in sight.  there must have bee\"\n",
      "\n",
      "boat was in sight.  there must have been follow the river and the thing to the man was replied the distance, and stoor to go to the carrier them that i said he had i fan the spoke the pie chers of a fenty of the hotwaty for the sime of the spot of the panary for the part of the starding the river the starding the river seemed and sent to sleep and seen a good down, and the splain of the windows of the morning.  the part of the spo, and the part of the boat and his started to do all the man we shall we had see and to the sentley of the sunding the starring the face, and the cat of the sponger.  the\n",
      "120208/120208 [==============================] - 87s 725us/step - loss: 1.3258nd steer to the time of the spenting something was to go with a collow of the boat, and the strange of the morning, and the suggestions that i had see and my line of the boat at the watcher and she had got to the back; and he was stirring agred to harris away that i want to start of the stable when he had got the distantly still and the states and start\n",
      "Epoch 17/18\n",
      "120192/120208 [============================>.] - ETA: 0s - loss: 1.3183\n",
      "----- Generating text after Epoch: 16\n",
      "----- Generating with seed: \"eemed to me to be going too far, and i s\"\n",
      "eemed to me to be going too far, and i said the boat begin to the simple and out and stream and with a triples to stream to the strange, and strain that churs before to wonderful of erely with a canss at the starm about a good along the same boat, and the sweet swing to the state air an a swort the land in his lands, so he as to shake it dones of the with his see an extramised all the man with a more the state in the smatanitful\n",
      "120208/120208 [==============================] - 83s 688us/step - loss: 1.3184nd the shope, and to started to all the struck to part of a little below the river al more than exactly in the strain to the bank, but i wondered the swort which we can’t see the respectay all the same, and the stream the floor of him in an ant the strain the marnariant on the seem to the day or tries and it in the boat and the river a good for the morning, and strain the some town in the time, and what you will the time to me.  i was a gone with the senss of some man who had been to the strain and the stream to the mornin\n",
      "Epoch 18/18\n",
      "120192/120208 [============================>.] - ETA: 0s - loss: 1.3139\n",
      "----- Generating text after Epoch: 17\n",
      "----- Generating with seed: \"ne that george wanted\n",
      "the shaving tackle\"\n",
      "ne that george wanted\n",
      "120208/120208 [==============================] - 73s 609us/step - loss: 1.3139od man and started in the more was the time it was not well and the time to in the whole when young to the boat ride and spot and started the boat and in the water in the wate of the proply and milish board, and the town the sentronty more it was the boat and brought the will belonged the boat and sharout and make and the mart of the stand and the whole made one of the corner, and we were the sobt of it of the more that i belowed the bank of boards at the sently was in the stepped out of the more i had been ground the sixt of the suched was the breakparancy for the boat to the more it was fell at the stew of strange of the boat be surpried that it was a strong down and the start of broken his second, and the boat in a start of the time of the head at the bank and sit of an exciting the margan the sweet times the bank as a mare to way to the river and started at the day the stepped and sat down to the care of its water there w\n"
     ]
    },
    {
     "data": {
      "text/plain": [
       "<keras.callbacks.History at 0x13b323908>"
      ]
     },
     "execution_count": 9,
     "metadata": {},
     "output_type": "execute_result"
    }
   ],
   "source": [
    "#### Generating the output\n",
    "\n",
    "print_callback = LambdaCallback(on_epoch_end=on_epoch_end)\n",
    "\n",
    "model.fit(x, y,\n",
    "          batch_size=128,\n",
    "          epochs=18,\n",
    "          callbacks=[print_callback])"
   ]
  },
  {
   "cell_type": "code",
   "execution_count": 11,
   "metadata": {},
   "outputs": [
    {
     "name": "stdout",
     "output_type": "stream",
     "text": [
      "Saved model to disk\n"
     ]
    }
   ],
   "source": [
    "# Saving weights and model\n",
    "\n",
    "model_yaml = model.to_yaml()\n",
    "with open(\"threemen_model.yaml\", \"w\") as yaml_file:\n",
    "    yaml_file.write(model_yaml)\n",
    "\n",
    "model.save_weights(\"threemen_weights.h5\")\n",
    "print(\"Saved model to disk\")\n"
   ]
  },
  {
   "cell_type": "code",
   "execution_count": null,
   "metadata": {
    "collapsed": true
   },
   "outputs": [],
   "source": []
  }
 ],
 "metadata": {
  "kernelspec": {
   "display_name": "Python 3",
   "language": "python",
   "name": "python3"
  },
  "language_info": {
   "codemirror_mode": {
    "name": "ipython",
    "version": 3
   },
   "file_extension": ".py",
   "mimetype": "text/x-python",
   "name": "python",
   "nbconvert_exporter": "python",
   "pygments_lexer": "ipython3",
   "version": "3.6.1"
  }
 },
 "nbformat": 4,
 "nbformat_minor": 2
}
