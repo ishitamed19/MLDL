{
 "cells": [
  {
   "cell_type": "code",
   "execution_count": 10,
   "metadata": {
    "collapsed": true
   },
   "outputs": [],
   "source": [
    "#### importing dependencies\n",
    "\n",
    "from __future__ import print_function\n",
    "from keras.callbacks import LambdaCallback\n",
    "from keras.models import Model, load_model, Sequential, model_from_yaml # to save our weights and load the pre-trained weights model\n",
    "from keras.layers import Dense, Activation, Dropout, Input, Masking\n",
    "from keras.layers import LSTM\n",
    "from keras.optimizers import RMSprop\n",
    "from keras.utils.data_utils import get_file\n",
    "from keras.preprocessing.sequence import pad_sequences\n",
    "import numpy as np\n",
    "import random\n",
    "import sys\n",
    "import io"
   ]
  },
  {
   "cell_type": "code",
   "execution_count": 11,
   "metadata": {
    "collapsed": true
   },
   "outputs": [],
   "source": [
    "#### Importing the dataset\n",
    "\n",
    "def read_data(path):\n",
    "    print(\"Loading text data...\")\n",
    "    text = io.open(path, encoding='utf-8').read().lower()\n",
    "    print(\"Done.\")\n",
    "    print(\"Corpus Length:\", len(text))\n",
    "    \n",
    "    return text"
   ]
  },
  {
   "cell_type": "code",
   "execution_count": 12,
   "metadata": {},
   "outputs": [
    {
     "name": "stdout",
     "output_type": "stream",
     "text": [
      "Loading text data...\n",
      "Done.\n",
      "Corpus Length: 360663\n"
     ]
    }
   ],
   "source": [
    "text=read_data('threemenboat.txt')"
   ]
  },
  {
   "cell_type": "code",
   "execution_count": 13,
   "metadata": {},
   "outputs": [
    {
     "name": "stdout",
     "output_type": "stream",
     "text": [
      "number of unique characters in the corpus: 60\n"
     ]
    }
   ],
   "source": [
    "#### Calculating the number of characters stored and building the c_to_i dictionary\n",
    "\n",
    "chars=sorted(list(set(text)))\n",
    "\n",
    "print('number of unique characters in the corpus:', len(chars))\n",
    "\n",
    "char_indices = dict((c, i) for i, c in enumerate(chars))\n",
    "indices_char = dict((i, c) for i, c in enumerate(chars))\n",
    "\n",
    "Tx = 40 # sequence length"
   ]
  },
  {
   "cell_type": "code",
   "execution_count": 14,
   "metadata": {
    "collapsed": true
   },
   "outputs": [],
   "source": [
    "#### Helper functions to build (train examples & labels) the dataset & vectorize it\n",
    "\n",
    "def build_data(text, Tx = 40, steps = 3):\n",
    "    \"\"\"Create a training set by scanning a window of size Tx over the text corpus, with a stride of 3.\"\"\"\n",
    "    X = [] # training examples (list)\n",
    "    Y = [] # training labels (list)\n",
    "    for i in range(0, len(text) - Tx, steps):\n",
    "        X.append(text[i: i + Tx])\n",
    "        Y.append(text[i + Tx])\n",
    "    print('number of training examples:', len(X))\n",
    "    return X, Y\n",
    "\n",
    "\n",
    "def vectorization(X, Y, n_x, char_indices, Tx = 40):\n",
    "    \"\"\"Convert X and Y (lists) into arrays to be given to a recurrent neural network.\"\"\"\n",
    "    \n",
    "    m = len(X)\n",
    "    x = np.zeros((m, Tx, n_x), dtype=np.bool) # array of shape (m, Tx, len(chars))\n",
    "    y = np.zeros((m, n_x), dtype=np.bool) # array of shape (m, len(chars))\n",
    "    for i, sentence in enumerate(X):\n",
    "        for t, char in enumerate(sentence):\n",
    "            x[i, t, char_indices[char]] = 1\n",
    "        y[i, char_indices[Y[i]]] = 1\n",
    "        \n",
    "    return x, y \n",
    "\n",
    "\n",
    "def sample(preds, temperature=1.0):\n",
    "    # helper function to sample an index from a probability array\n",
    "    preds = np.asarray(preds).astype('float64')\n",
    "    preds = np.log(preds) / temperature\n",
    "    exp_preds = np.exp(preds)\n",
    "    preds = exp_preds / np.sum(exp_preds)\n",
    "    probas = np.random.multinomial(1, preds, 1)\n",
    "    out = np.random.choice(range(len(chars)), p = probas.ravel())\n",
    "    return out\n",
    "    "
   ]
  },
  {
   "cell_type": "code",
   "execution_count": 15,
   "metadata": {},
   "outputs": [
    {
     "name": "stdout",
     "output_type": "stream",
     "text": [
      "number of training examples: 120208\n"
     ]
    }
   ],
   "source": [
    "#### Building the data and Vectorizing it\n",
    "\n",
    "X, Y = build_data(text, Tx=40, steps=3)\n",
    "x, y = vectorization(X, Y, n_x = len(chars), char_indices = char_indices)\n"
   ]
  },
  {
   "cell_type": "code",
   "execution_count": 16,
   "metadata": {},
   "outputs": [
    {
     "name": "stdout",
     "output_type": "stream",
     "text": [
      "Building model...\n"
     ]
    }
   ],
   "source": [
    "#### Defining the Model\n",
    "\n",
    "print('Building model...')\n",
    "model = Sequential()\n",
    "model.add(LSTM(128, input_shape=(Tx, len(chars))))\n",
    "model.add(Dense(len(chars)))\n",
    "model.add(Activation('softmax'))\n",
    "\n",
    "optimizer = RMSprop(lr=0.01)\n",
    "model.compile(loss='categorical_crossentropy', optimizer=optimizer)"
   ]
  },
  {
   "cell_type": "code",
   "execution_count": 17,
   "metadata": {
    "collapsed": true
   },
   "outputs": [],
   "source": [
    "#### Function invoked at end of each epoch. Prints generated text.\n",
    "\n",
    "def on_epoch_end(epoch, logs, maxlen=Tx):\n",
    "    print()\n",
    "    print('----- Generating text after Epoch: %d' % epoch)\n",
    "\n",
    "    start_index = random.randint(0, len(text) - maxlen - 1)\n",
    "    diversity=0.4\n",
    "\n",
    "    generated = ''\n",
    "    sentence = text[start_index: start_index + maxlen]\n",
    "    #usr_input = input(\"Write the beginning sentence and machine will complete it. Your input is: \")\n",
    "    # zero pad the sentence to Tx characters.\n",
    "    #sentence = ('{0:0>' + str(Tx) + '}').format(usr_input).lower()\n",
    "    #generated += usr_input\n",
    "    generated += sentence\n",
    "    print('----- Generating with seed: \"' + sentence + '\"')\n",
    "    sys.stdout.write(generated)\n",
    "\n",
    "    for i in range(1000):\n",
    "        x_pred = np.zeros((1, maxlen, len(chars)))\n",
    "        for t, char in enumerate(sentence):\n",
    "            x_pred[0, t, char_indices[char]] = 1.\n",
    "\n",
    "        preds = model.predict(x_pred, verbose=0)[0]\n",
    "        next_index = sample(preds, diversity)\n",
    "        next_char = indices_char[next_index]\n",
    "\n",
    "        generated += next_char\n",
    "        sentence = sentence[1:] + next_char\n",
    "\n",
    "        sys.stdout.write(next_char)\n",
    "        sys.stdout.flush()\n",
    "        \n",
    "        if next_char == '\\n':\n",
    "            continue"
   ]
  },
  {
   "cell_type": "code",
   "execution_count": 18,
   "metadata": {},
   "outputs": [
    {
     "name": "stdout",
     "output_type": "stream",
     "text": [
      "Epoch 1/30\n",
      "120208/120208 [==============================] - 52s 432us/step - loss: 2.0868\n",
      "\n",
      "----- Generating text after Epoch: 0\n",
      "----- Generating with seed: \" supposed this was part of the method, a\"\n",
      " supposed this was part of the method, and george the said we was not the could get in the ound you dice and we we light of dry with the ind out last from the with the want be the wast and the can a the thate the with a\n",
      "that in the biges of at the grient the were that in the bant the bratter and the wast in a the want in the sind and the ind the erefine in the cally with the came fill or the wast in the can the badnt we say been the said in the batter that the and the baining a that a man a come and the could in the lite and the brean trout the the endered he said the wast in the was the sind a the boat the ead he had been in the was one now and had the gried and but the with the way out and he the been the lay the make that in see we see like firning the man the the pately intake the with the may what the was and we were the lift of the bight and a grankent you were fill one and that the beary and the batter on he with in the boat been and the out a\n",
      "fere a macter of the ond the sind and the ore me the baint on the litter faEpoch 2/30\n",
      "120208/120208 [==============================] - 51s 428us/step - loss: 1.7172\n",
      "\n",
      "----- Generating text after Epoch: 1\n",
      "----- Generating with seed: \"till going on.\n",
      "\n",
      "in the present instance,\"\n",
      "till going on.\n",
      "\n",
      "in the present instance, and he said he she strain does come one stranding been to the cleeting to get a lating the boat, and the boat on the boat a been to the boat to with the river in the bring the\n",
      "strain of the river and the boat a look of the been with the core and one and the strain an earing and wild round the river.\n",
      "\n",
      "they had dien to he house the preting to the river, and called a live i to the river on the boat and rearing to come for the river to the been let.\n",
      "\n",
      "he straid the live experied all be the to get for the bards of it in the river and child of the bank a low the gring of been a the corted of the river to get come to the river to here a steef and the room to the river a shades; and she to go a look and the strain the but in the breacher.  the boat a who was a lot for the cortless.  the got the morning bour to the boat and the river harris, and the river be from and the river to the shile of the boat a the must the bleat to the river a\n",
      "the had the briver a been a sund a look of him to the riveEpoch 3/30\n",
      "120208/120208 [==============================] - 51s 425us/step - loss: 1.6096\n",
      "\n",
      "----- Generating text after Epoch: 2\n",
      "----- Generating with seed: \"ry; and one night,\n",
      "as they sat in cheerf\"\n",
      "ry; and one night,\n",
      "as they sat in cheerful and the works and with the short\n",
      "the river the things and we had seemed and come bod, and he said it was and a boy what he said the short shout and the river while the whole good come to the water what a the short the sime of a churest it back and strop and shouted the morning of the rumes the sime of him in the shorts and bewand the rume of the of the short and shart of the time of the sharsers of the thim the things to live the of the work a filless.  i did not first and think where was the river people i came of a just day work.  the whole shouted with a bad with the boat and rear and the bottom was the short of the short of the short mile with a posions, and he said harris and the whole short while the morning of a more of the third\n",
      "some of the sides and the while the morning of the like a back to the short with the boat and reckecties and while and the barles that i had got the river of now i thinks the hour him in a more propress, and the like the supper with a side the boy, aEpoch 4/30\n",
      "120208/120208 [==============================] - 51s 423us/step - loss: 1.5437\n",
      "\n",
      "----- Generating text after Epoch: 3\n",
      "----- Generating with seed: \"ell, no, sir; i’m afraid it’s settled do\"\n",
      "ell, no, sir; i’m afraid it’s settled down the matter which i have to be not a bean out bargerous for the rain all the things of the picter, and we were a man a puttle and they so hair lock of the boat and the thing they at a part the ruar away of the middle to be sight.\n",
      "\n",
      "“i can it was the time of the boat and had a drew they can it was a brather there we cauled to how we were there was a man they were the houserver the made a beat the which we were the lay in a bet in the hook and breakful of them a more a bean the matter a straight our boat and so time, and they were the bank of the boat at some the head if he were the harris.  they were the things of the river a chatter there they had to be not been but they make a partant at the corter of the other beat preyent they had got the man at the spre of the river.  they\n",
      "i have to pure the old in a boat is they been the things\n",
      "courther the time of the corrair and the boat and they were the house the with pull and it sure a statter that i was them and so the have they could not bEpoch 5/30\n",
      "120208/120208 [==============================] - 51s 422us/step - loss: 1.4994\n",
      "\n",
      "----- Generating text after Epoch: 4\n",
      "----- Generating with seed: \" a fountain, and made the whole crowd si\"\n",
      " a fountain, and made the whole crowd sink of the proper, and the windly in the centranars, and a boy well, we had seemed to the boat, and the boy harris and we seen and henty me manate more the boat, and does not go and said the look of here, when we had and we had got to the bank; and the think, and must heref the boy of course the boy wind of a better, and the wooded the chiet and will some what the river the whole of the boy and a betin of the sweet of the boy, and i could have somehow we were any bed of the shout, and the boy had come that i went in the morning to somehow in the morning, and we were too in the shook, and the for the boy the whole placed window, but i would got to the boy of the contracuses.\n",
      "\n",
      "i montmorency wind we were the montmorency and the think of the boy and we were got the wood to since and the line how the lines and the core end of the brow, and the went to make a boy and the man who had a come that i had been seet of the opportion and come and sink and more of he had been winder any courted for tEpoch 6/30\n",
      "120208/120208 [==============================] - 51s 423us/step - loss: 1.4670\n",
      "\n",
      "----- Generating text after Epoch: 5\n",
      "----- Generating with seed: \"istake them for a beanfeast, and ask the\"\n",
      "istake them for a beanfeast, and ask the corner of the middle of the man washed the river and the worked and be a pollowing the breath men to the were to be a come of the banking and drawn and the boat he had got in the who had it was a come and the hatcooning and streeting, and the two with a batter for for a strong and the boits, and a pultice and let to be a long and told the time the boat and shouting and something and i said he said he passed to be whisher the room and morning and the cold any stat we known the boat of the boat, and then, we seemen on the atchons, and we had been a pietions of a beat bear in the side of the even a state of the catch of at the seenthed to be still who had well and the beating to expressient, and he do not his part of any lundles, and the water the who had said it was a party who had been the hall beam the who had a morning in the who had seen and the come and shad for the linestand to hear hour of the cornery the something it was a looked and come and the man wasted, and he would have toEpoch 7/30\n",
      "120208/120208 [==============================] - 51s 423us/step - loss: 1.4393\n",
      "\n",
      "----- Generating text after Epoch: 6\n",
      "----- Generating with seed: \"licated job, but i accomplished it at le\"\n",
      "licated job, but i accomplished it at leafty of the part becomes and loved the same without to pan a river and streety and tried to dired that the man who was a water, and a boat and till and we and be the sunning of the swand, and so had have to waters to the boats and sone of the bargers of a polt the way and back of ourselvened the water and street of the sunders to the river, and i had see in the side and come to your water-sending, and we had come off, and the boat and to see to see a boat and so\n",
      "more than the boat of the water that i did not look to the simply, and the part of something, and sudded at a boat and got to see over the time a to supper and i had good of the house, and the pont of the ornets, and the shouts and the two promence of this crient to the starter to the way offine.  they are and sometide, and the only like the langes of the river to the long, and street-lank and little sone, and i wonder the work; and they would get to some miles.  i wad the lock in a strain in a way of the starter, and the graceEpoch 8/30\n",
      "120208/120208 [==============================] - 51s 425us/step - loss: 1.4180\n",
      "\n",
      "----- Generating text after Epoch: 7\n",
      "----- Generating with seed: \" easily avoid his\n",
      "advances; but, when he\"\n",
      " easily avoid his\n",
      "advances; but, when he would not think i had gone and seem too to the boat and really the boat of the morning of beam and took a\n",
      "toming at the boat, and said they had took the boat, and takes about him and the pothing the river and something of the bank, and got a long of a better of the boat, and they had see it was a boat of a boat of a boat of the boat of the lighte of the banks that i had been the boat and long the boat, and beng too to the patting and the boat, and stage and be some best sills and sure if we were down not down the boat, and the boat of the stagest the bank of the bank of back.\n",
      "\n",
      "we seemed hard boat of the boat and had he said it was a beam of the bankher that i had took to the barges of the bank of the find-raines to the boat, and show the party bring and staines of the bank, and all the man was the man “complainting at the pear of the boat of the bank of pasiable of the bank in the middle of the batter, and the boat and benne.  it was a beat beam to the boat, and things of the part of Epoch 9/30\n",
      "120208/120208 [==============================] - 51s 423us/step - loss: 1.3998\n",
      "\n",
      "----- Generating text after Epoch: 8\n",
      "----- Generating with seed: \" city would\n",
      "have to lump it.\n",
      "\n",
      "[picture: \"\n",
      " city would\n",
      "have to lump it.\n",
      "\n",
      "[picture: stay that the stuggestion and the boat, we was good the river and the catches, and the lad bell any able the chair and mistry.\n",
      "\n",
      "we could not seem behind the river, and so we was the cournt.  they would go to stard.\n",
      "\n",
      "i cannot behind the river the boat and come and the river comes in the street.  there was the place the parten, while the street and boat on the corner the visicoulard and state of the party the room, and so he thought the boat and the morning and the boat and the bread of the street all the bread days of the big staines the landing the corner, and the boat he rood to be street, and the wall the susper will the nater, i have to be stream, and streams and the morning the street and all the streng would try and seem the party of the boat, and then to the street attall any step\n",
      "orting the river the sunding the catch the nearly before we had come and steering the boat, and then we were got the street of the river comes.\n",
      "\n",
      "and then i had done me the rain on the bank, and the satuEpoch 10/30\n",
      "120208/120208 [==============================] - 51s 422us/step - loss: 1.3856\n",
      "\n",
      "----- Generating text after Epoch: 9\n",
      "----- Generating with seed: \" him has been one of iron, and he has\n",
      "sl\"\n",
      " him has been one of iron, and he has\n",
      "slipped and courted to the pot of the singurage, and had a good bank of the seemed a for a little on the present the towards out of the newry the seem the rase at him of the boat and every at the seem the man who was george in the sat and dear, and respectable round, “there was the boat, and the party deep the sail, and our little and the sail the river what, and the montmorency in a tripper and strain the way of the other of heaves and hush and the point, and they could not corner with a tream in the man and wastern the sail the chair or the first said the stew.  it was a little and the boat for like the other some to the other of the boat and the pretiliher to the will but the river the only we could not cereque us, and put herry for a pie, and the man was that were coming our lander, and the may the river able to have at the want of the stake, and nother here, and the world of the lair, and the stage and shook, and the seemed he said he would have the man feel the party like the rest Epoch 11/30\n",
      "120208/120208 [==============================] - 51s 422us/step - loss: 1.3724\n",
      "\n",
      "----- Generating text after Epoch: 10\n",
      "----- Generating with seed: \"d\n",
      "caught it early one morning, with blea\"\n",
      "d\n",
      "caught it early one morning, with bleare peaceful boat and thought the musted him with the spot of the river so fine more and the river the river.\n",
      "\n",
      "“i had see that the boat up and put up the river to schomer in the care into the time of the boat of the other show of him and shatter, and the spot that poodle to the time, and shanged the man was the river to want the toobs of more was to start of the river work, and thought that it was a stone, when he didn’t stown with the faint into the sporing to them in the stand and a lock was to the stand of the water and put the ready and dearty was so made the middle of the people and stop in a good to stand that he would go a well, and worked in the father-peare of a man was it up them that was a paid to start, and recould thought harris said he did not as except of the some of his pusser to them, and said he had said it was a dream that we should shouted that i had to come to stop and said looked at it out of the prome of the middle of the river, and he said it was got to stand outEpoch 12/30\n",
      "120208/120208 [==============================] - 51s 422us/step - loss: 1.3595\n",
      "\n",
      "----- Generating text after Epoch: 11\n",
      "----- Generating with seed: \"riends jeer at it, and even my landlady \"\n",
      "riends jeer at it, and even my landlady the poce to see the starter the should be some of the time of the smile who had some of the porger of the barts of the parts i should not get in the boat and so to the days and she work to the nother, and said he would have going to be some of the shouts and the some of the shapped at the state\n",
      "and some of the mile to the boat, and strong so man of the whole dog for the side, and the locas of man of the some of the boat of the river the criver work to be some of the streether the boat and head and to see what was the some of the boat and come to lean the should not pull the river to the shave of the boat and belonger in a father was when they were got the things when they said he went to the shires to see to the shirt,\n",
      "that when i went on stream to the should not seen a party, and down to the boat, and makes a look of the boat, and the boat, and come to make the sights of the rain, and had been to stand of the stream to be some time of the some of the stage of the\n",
      "other the days into tEpoch 13/30\n",
      "120208/120208 [==============================] - 51s 422us/step - loss: 1.3502\n",
      "\n",
      "----- Generating text after Epoch: 12\n",
      "----- Generating with seed: \"ood of the river grows\n",
      "more hilly, varie\"\n",
      "ood of the river grows\n",
      "more hilly, varied the can are did not have a straight was a most and that they said he said he said he had handen, where’s been been the board that been so and the sighte of the board and hand’s pleasant that it was and the bank and had start and the board the time and walking to a party of the day we had emetserainant start, and they were a look and all roping many thing in the stage of the boards was was came at the trip and started at the boards and all a house care the suggestof and his sunning a time, and they were a bottle of midested that like a rate such a done it is a trip harris and left to the house it was always all the long at one of this about the little way, and the boat and spen and hamper, and they had all the cold came and strong sure,” was nother, and we had a pleasant that he said he said he said he said he had say and the seen to with meetien and the story and all the board to get the boat and hell he was had all story up and said he was a triple and hand it are a bit of his partsEpoch 14/30\n",
      "120208/120208 [==============================] - 51s 424us/step - loss: 1.3421\n",
      "\n",
      "----- Generating text after Epoch: 13\n",
      "----- Generating with seed: \"dn’t i got housemaid’s knee?  why this i\"\n"
     ]
    },
    {
     "name": "stdout",
     "output_type": "stream",
     "text": [
      "dn’t i got housemaid’s knee?  why this in the late and some practisias and been beam for a tow-line, and stopped the barge of the case of the river and that the part of the sunging of the sail.\n",
      "\n",
      "i have ease a mile and suir calling the little came of it.  the sight and tried to think the picnity as did not a few wet, and we precolled the side of the boat, and shade practice that i was the man who had gond the way of the boat and hang“ting the bag and river of the banks and the river.  i was something boat still before that it was a good plattion, and the churs shade a still, and the river.”\n",
      "\n",
      "the call the boat, and asked himself, and the river, and the man was about his his much and streng the shallowed and stills and hearth, and the bank—and start of his time, and harris and we had it to get extraorned the sight of the river.  we went all that was hearth boats the boat and make his head, and had more and the boat, and it with a shallower the river.\n",
      "\n",
      "                                                                             Epoch 15/30\n",
      "120208/120208 [==============================] - 51s 422us/step - loss: 1.3314\n",
      "\n",
      "----- Generating text after Epoch: 14\n",
      "----- Generating with seed: \"we mutter, “what’s _he_ know about it?” \"\n",
      "we mutter, “what’s _he_ know about it?” said he said that the stearly still and the boat and dust and the boat and harris was that the boat, and then i am seen the river the other boards, and i had seen the river a strop a smock, and then i had to be see a most thing of the stage, and was the man he had had been\n",
      "and the other beach and summer he had have have been great supper and the sunst and with the boat and we had to be that the boat and summer the street cornered the boat and came was the river the other as a boat of his\n",
      "peal of been the stagher the boat shill noors in the boat, and the boat of this poss the man\n",
      "if he would sone that the barges of the man how he had hand the thing in the staring to him and the streat\n",
      "makes a time, and there was the world.  he went and the shotking to the pression of the river the world, and was we had to be not been the started it our fine part in the stage of the other in the seen before other, and the man houring about the people one of the middle of the river and a bit of the man beEpoch 16/30\n",
      "120208/120208 [==============================] - 51s 423us/step - loss: 1.3253\n",
      "\n",
      "----- Generating text after Epoch: 15\n",
      "----- Generating with seed: \"e not been able, in reply to the severe \"\n",
      "e not been able, in reply to the severe at the world and even that we thought of the morning of the water the boat and down to steam, and the bage of the marlough the man who was not mady\n",
      "belonged at the sight of the story, and a\n",
      "gerem and started the boat and the party of the five miles and the part of brough\n",
      "the boat and work to them, and the people the part of the river thought they did not made of the boat of the boat and street; and had said we were a barge of the churfes and steadily and the part of the silents of the read still with the read boat and to be stucken at a far and steeting to the silent of the sadd and discussed up the same down the\n",
      "thing the boat, and the boat and the steer for them, and had such a strengly did not seem them them to diref and belond the sensomening, and the count\n",
      "the party with a sculling of the way of the chief there are not go and say in the boat and strenty side of a strange, and had to mead to them.  the pun it stopped all the great late of the boat and such a senture of the river thEpoch 17/30\n",
      "120208/120208 [==============================] - 51s 423us/step - loss: 1.3182\n",
      "\n",
      "----- Generating text after Epoch: 16\n",
      "----- Generating with seed: \"d\n",
      "we wish it.  we told each other that n\"\n",
      "d\n",
      "we wish it.  we told each other that nower behind hampened to be some of the stepser that steam lay panding out and five a bit of the seemed steam lay man and brong on the river, and the whole precolled to be the river was is who wished the man who had good the whole recommently have been steam lay in the suggested in the boat start and temperer to them and to start behind him in the stage, and the posen with a common in the stagher we were to the man who had the cold the core of the house, and the man from the time and steering stand and man the stewn of the suggests and begin to the precosully of the pressen and beds and the morning and get to the "
     ]
    },
    {
     "name": "stderr",
     "output_type": "stream",
     "text": [
      "/usr/local/lib/python3.6/site-packages/ipykernel_launcher.py:31: RuntimeWarning: divide by zero encountered in log\n"
     ]
    },
    {
     "name": "stdout",
     "output_type": "stream",
     "text": [
      "party when i wanted a minute the fixe and bank and steady the point, and the carved of he had see a placest in the seemed more with the picture of the constity and beds you his head been strong, and he would be suirded the of anything to have been like the time part he would be to the faces, and the constite the seemed to the man who had to get to sleep to the man who had ever Epoch 18/30\n",
      "120208/120208 [==============================] - 51s 420us/step - loss: 1.3080\n",
      "\n",
      "----- Generating text after Epoch: 17\n",
      "----- Generating with seed: \" on the remainder.\n",
      "\n",
      "six shillings a week\"\n",
      " on the remainder.\n",
      "\n",
      "six shillings a week, and then we were to still we were seemed to this exceptations, and then he would not nothing by the shout of the shout, and then it was a miluty and his land that the state of the small beer the boat and to start in the river thought and the still and rest that it was beer they said the two man was the stew and tried to the small be some ourse the other place and strange and way of the stew or said the man a pleasant that he would not asked him it seemed to the river and they had got the shatting that they said that it was he shoutded the sails of the man who was the shangwards, and we were not to the recention, and then he said he said the more of the man was the side, and then we should take the somewhere was the speer of the boat and things of the river the world was while the back and half offerent says the man what he said there was nothing we was the marty steam, and then we were to steam, and he\n",
      "would shouts with rowing at excitions, and harris and i had been the man were the Epoch 19/30\n",
      "120208/120208 [==============================] - 51s 422us/step - loss: 1.3037\n",
      "\n",
      "----- Generating text after Epoch: 18\n",
      "----- Generating with seed: \"to his own place, and caught the bull-do\"\n",
      "to his own place, and caught the bull-doggside of the boat and thished to start of proplace, and the boat of the pole of the bank of a bank of the back and see him at it.  i can for the place to cated to be some of the bank for a polt the boat the lock that all out of some of the swanged to start, and the party of the sculls and handed up the only steating a thing the boat on the two of the man any places harris and the cold beforeh it is ready we were to be strange, and the partain with a cofferther we had a come of the boat and the worls and harris and his handed up the thing with wire the picturesque.  i have to be what\n",
      "it was were silly starks and looked the town there was the speak.\n",
      "\n",
      "i said it was proply and shall be and harris and harris and harris canget to pass, and the sail of the river, and strange completers and strone would be shops\n",
      "hopetions, and see a troubles with\n",
      "the biskes and started to have said that is and the world the boat and some of the law the party of his part of the cripple of the prople of the lanEpoch 20/30\n",
      "120208/120208 [==============================] - 51s 421us/step - loss: 1.2965\n",
      "\n",
      "----- Generating text after Epoch: 19\n",
      "----- Generating with seed: \"as wet, or\n",
      "when we felt inclined for a c\"\n",
      "as wet, or\n",
      "when we felt inclined for a common sentured in the father streatly sculls, and he would care the boat and forty and wash out into the trip and had while the boat and street of the party of a triem to the parts of the cirement that i was a troubly down the bank, and the something the boat in it, and he said:\n",
      "\n",
      "“i did not came in a boat and seemed to chating at the\n",
      "end, and had not been not to get moverges and we had been a remed the side of the discuptable on the boat and begin with the boat streatly for the from the and was we had to be some of the baggering was here the boat and the boat, and we could not like the dringess and the house, and we were to the matter in the parlous and hand a complides and street and i all the boat in his\n",
      "legs to the matter, and the even been to get to the boat and first that the cat: i have a planted out after the matter, and the presence, and streather forty of it.\n",
      "\n",
      "the cain to the hammble came but of the way, the boat and don’t dever we stand the bank had been a somebox tower of thEpoch 21/30\n",
      "120208/120208 [==============================] - 51s 421us/step - loss: 1.2918\n",
      "\n",
      "----- Generating text after Epoch: 20\n",
      "----- Generating with seed: \"ficant and paltry compared with our feet\"\n",
      "ficant and paltry compared with our feet of triess it, and came the chaps at the place of the boat, and the man have have done going to get the water there was a started the sensing to the man who had been and hearness, and put and ship out of the sports.\n",
      "\n",
      "it was a spirit’s start of lodge and land comprises of the river was a plet it a sturnt by the cateratic there was to meaf the pane and the sculls and the stagher was to were doing the lick there and the house has been there there was a long round the river there was to get him to the thing of his man, and the rest and the boat the first that was up to the water and the boat on him in the stream, and there we were at a pleasant boy we said he said he said he had as it is the man was to be have to see made of the sileng, the stagher and the came hard more wall it was a bit of the time and state\n",
      "of a man while there we leant the lines the boat and handed it was a man from the man was to make a runh, and the place a cripping of the poods\n",
      "that\n",
      "we were strong at the river and lEpoch 22/30\n",
      "120208/120208 [==============================] - 51s 423us/step - loss: 1.2866\n",
      "\n",
      "----- Generating text after Epoch: 21\n",
      "----- Generating with seed: \"! how\n",
      "beautiful the music seemed to us b\"\n",
      "! how\n",
      "beautiful the music seemed to us beaning the summer, and the shills and made a polibly beds, and he had been things in al”—gent to hear the beare of the bishe of the pressions, and he motting the shout of the house the resterien and the boat and the boat and was the shilling and the steply and the boat one of the came from the heads and pass to the pan the bank, and had to be getting the tay in the river.\n",
      "\n",
      "“ah, it was no to the river of his bank of point in the shouts have to have a little and harris and he was mentable at all a started to be the bishel out into the morning to the time it was a more that he had more a party of been plet and he brold hand out of the chair, and we had to be see a mile and the bank of puinst out on the boat for a little sight of the distrien the had heartaged to the river\n",
      "the bank, and then he could not see a more than the tame a plets a more if we were to the sail the old lighten was the water the time the boy was the pearled him and show the charter with a performed in the present, and Epoch 23/30\n",
      "120208/120208 [==============================] - 51s 422us/step - loss: 1.2818\n",
      "\n",
      "----- Generating text after Epoch: 22\n",
      "----- Generating with seed: \"bell\n",
      "weir lock will stand, they have bee\"\n",
      "bell\n",
      "weir lock will stand, they have been for the discuss round to the shase, and the sail was to the shatter, and then they had have been so had said if he said he said he would start in one of the shouts and his position and hene endsmans had got the soull and the tow-line whose here for a thing that i had the watch a mile to go and the foreques a shad, and breakfast.  i say that i looked and took them to go out and sightoof and the street like the boat to the supper, and then worken, and so we were to see a man supper.\n",
      "\n",
      "in the water and the party of the suggestion of the time out and so spraver that harris and henther with a completers and to stop in a most of a while, the rest of the shout churk, and the stewn.  the most into the party of the river for the shadding three to the sail who has got the ground getted at all.  they are to the want up the show the rest to love a do a little such put up and the course, in the thing when the party where, and the party of the shirty bet some prodage and benth down the time out of Epoch 24/30\n",
      "120208/120208 [==============================] - 51s 421us/step - loss: 1.2782\n",
      "\n",
      "----- Generating text after Epoch: 23\n",
      "----- Generating with seed: \"; and then they met\n",
      "again in the centre,\"\n",
      "; and then they met\n",
      "again in the centre, the river to men that was the flashing of his house of the walk course going to the sun and a bit of the boat on the dogs side.  there was not in the river that there was not at him for the clay to the sun of the\n",
      "bottom of the man who had taken and proper silent boy the shout, and i said i do not go for the said the landing and start of a strong of the side, and a bit of it, and parted themselves the boy was the young men and a little on the river is a boat and a belf so supper, and had seen of the wint stand the boy want to be a shillings to be found to the river would go for a started the ladkes in the ladge sile_, behid the thing in the day, and the cat.  they seemed the cat down on the shout, and the boat once of the river down there is a treat somebody should be sould be sulanded there was the thing the river was here of the last and his cheeses of the could there is a fair cleaned the bank, and he would see a shop an as a supper and start of pearly the other room of a shown the Epoch 25/30\n",
      "120208/120208 [==============================] - 51s 422us/step - loss: 1.2742\n",
      "\n",
      "----- Generating text after Epoch: 24\n",
      "----- Generating with seed: \"ng i had often longed for myself; and\n",
      "we\"\n",
      "ng i had often longed for myself; and\n",
      "we had to go to the started up my tom, the great-lugger, and the work to see the boy was a pleasantic stop and man a more the man who was a somewhere they could have been the great consection, and don’t stretched the nearly thing i would shout of the man was than the boat and so midds and subchter the other work, and some of the bottom and stand the river, and the stepse, and the man some of the evening and spot and stand the side of the bridge of the first stopped and shilling and a little way of the river of the stage, and then we should be a tripe, and\n",
      "the lock to the with roaring to the boat and man than that we were bean an a bit of the boy wanted the great-lay was not so the some prod\n",
      "i strained the somehow the man who was a trouble that we were the soils when they replied to go and see a mile in the more and show the other than the boy of the river and the song of the house and supper, and say in the some whometh of all the more old way of the pole of the other water in the sold bEpoch 26/30\n",
      "120208/120208 [==============================] - 51s 420us/step - loss: 1.2682\n",
      "\n",
      "----- Generating text after Epoch: 25\n",
      "----- Generating with seed: \"he bright skies in a chariot, that is\n",
      "wh\"\n",
      "he bright skies in a chariot, that is\n",
      "which the\n",
      "house the old graps a week of the marlough, and they went to hear the time to the spoke for them and asked his bank of the part of south for a man was to sleep in one of the starter the boat and have handen of the suggestion of the bank of the way with the boat and had george and the lines, and he could stand the soat here, the other at all,” he said that i was the world the boat and someting, it was a started the matter of the someting to go on the cates an a tow, and the sone the side, and seemed to sleep the marlough to the strong the world of the corner, we were to the old man was to the saddeas that seemed to three continute as the boat and had so the boys of the marlow which came to see the boat, and she saw him and came to see the morning’s worring the small be strong the straight both of the marlough to the bank, and the mort of the seemed to do all red it was in the seemed to see that it was as we were to see the stream to sund it at the water with the seemed and half-Epoch 27/30\n",
      "120208/120208 [==============================] - 51s 421us/step - loss: 1.2660\n",
      "\n",
      "----- Generating text after Epoch: 26\n",
      "----- Generating with seed: \"he old fool was leaning over the chair a\"\n",
      "he old fool was leaning over the chair and hended the real and start in the river to them to the river in the town and strong in the real of after the steps, and said that we were to see the cornering work, and then, and the reper.  the lones, and we had been strange, and then they were somewhere, and the boat and worked and end, and had been strong, and he did not be sunning the river, and the strange and got the other to passence at all and said that i had been streatley, and the parted the distring to get out, and so for them, and then we seemed them, and made the boat on the boat, and the sculling round, and the stream to the result at all the end, and the starting three, and then down the cold umbrellamband, and see the bank and some such a mile to the stream to demaked\n",
      "with them.\n",
      "\n",
      "we were to get the water and sudded the stream that it was an ided up the river, and the long stone of the sculls and spean.  the contenter, and then they were strong standing and street.—he help the wall, when the work been the stream was toEpoch 28/30\n",
      "120208/120208 [==============================] - 51s 424us/step - loss: 1.2620\n",
      "\n",
      "----- Generating text after Epoch: 27\n",
      "----- Generating with seed: \" mile, and then i came in sight of a\n",
      "fis\"\n",
      " mile, and then i came in sight of a\n",
      "fish.  the time of his mile comfort of the man who is about the natural of satisquer, i want the river, and the worken with the somewhere was the it.  i said it was a good many shuling to the shautif the river was head in a thing of the boat, and the pole to look at he thought i should go at the silve and back it was a trout.!  so i said the man while the river had some miles to the river; and the strailing so for a ban was all row a mile said it was a comic song of the seasing the same prasing of his five miles an looking by his potsions, and he would be to have a bit of long harris said harris said the old man,” he said it was a bit of the afterward:\n",
      "\n",
      "“going to him to give yourself.  i had love is it had we came to them to look a mile to bed, and harris must have a look of the shaught is become somewhere we were the river was a strill easy should be so had a mile so such a concerters, the took the shattery, and harris said a boat with the watch the time the people it was a tity of the sEpoch 29/30\n",
      "120208/120208 [==============================] - 51s 423us/step - loss: 1.2555\n",
      "\n",
      "----- Generating text after Epoch: 28\n",
      "----- Generating with seed: \"ne vast lake.  i am not in a position ei\"\n",
      "ne vast lake.  i am not in a position eight out of the boat we should not all the stater of the bank, and they were been some on the mornion with the middle, and they were to be dindlanged the time of the morning, and said they contisued it ourself, and the bargess, and he said he could not in the seemed a man when i had got the boat and don’t said he said that we were stranger i have been before it was who had got the catch of position of the soat was mell and the streets of the river i started the boat and started one of some to staterward and down out of the ground, and the bargest of the back and tell of the side, and harris wanted that it was a look of boat and the same presence some miles of the water, and the man who was my come and the sight of the man who had been swangerver to the seem not about the boat and a pleasant so some presence and the river of the capet and a troubl-looking was a bit of the man who had some time and shook with the supper at the two young lady in the vilter.  i would try a drank and swance Epoch 30/30\n",
      "120208/120208 [==============================] - 51s 422us/step - loss: 1.2563\n",
      "\n",
      "----- Generating text after Epoch: 29\n",
      "----- Generating with seed: \"nd squires have ridden in, all\n",
      "travel-st\"\n",
      "nd squires have ridden in, all\n",
      "travel-stretches with sure to the other place, and his hand it was a trout.  the steward in the morning on the time and see a poling and spen the day, and we had been what the boat the boat, and had been so for the river and a mile on the boat-looking man, and the catch on the river as it was a mile\n"
     ]
    },
    {
     "name": "stdout",
     "output_type": "stream",
     "text": [
      "to be done would cone than the boat,” he said that we were the first lown the thing her part of the thing would say that we had been the boat,” he said that the pain aways the boat presentic the villing boat and get the middle of the sculls of the pickhep at the sune the boat and pleasant has the man which would con and so find harris, and the poor course, and see in a boat and see in up at the pilly the soat and half-past at the river the morning of some of the backwanted to be all relef”\n",
      "sentury for the river of the river boat and so whish the boat, and then he was a trouther the shirts\n",
      "the suspiction is the sudden that the chair, and spean and chook at the first beer the old way of it, and that i"
     ]
    },
    {
     "data": {
      "text/plain": [
       "<keras.callbacks.History at 0x7f26b04500b8>"
      ]
     },
     "execution_count": 18,
     "metadata": {},
     "output_type": "execute_result"
    }
   ],
   "source": [
    "#### Generating the output\n",
    "\n",
    "print_callback = LambdaCallback(on_epoch_end=on_epoch_end)\n",
    "\n",
    "model.fit(x, y,\n",
    "          batch_size=128,\n",
    "          epochs=30,\n",
    "          callbacks=[print_callback])"
   ]
  },
  {
   "cell_type": "code",
   "execution_count": 19,
   "metadata": {},
   "outputs": [
    {
     "name": "stdout",
     "output_type": "stream",
     "text": [
      "Saved model to disk\n"
     ]
    }
   ],
   "source": [
    "# Saving weights and model\n",
    "\n",
    "model_yaml = model.to_yaml()\n",
    "with open(\"threemen_model.yaml\", \"w\") as yaml_file:\n",
    "    yaml_file.write(model_yaml)\n",
    "\n",
    "model.save_weights(\"threemen_weights.h5\")\n",
    "print(\"Saved model to disk\")\n"
   ]
  },
  {
   "cell_type": "code",
   "execution_count": null,
   "metadata": {
    "collapsed": true
   },
   "outputs": [],
   "source": []
  }
 ],
 "metadata": {
  "kernelspec": {
   "display_name": "Python 3",
   "language": "python",
   "name": "python3"
  },
  "language_info": {
   "codemirror_mode": {
    "name": "ipython",
    "version": 3
   },
   "file_extension": ".py",
   "mimetype": "text/x-python",
   "name": "python",
   "nbconvert_exporter": "python",
   "pygments_lexer": "ipython3",
   "version": "3.6.1"
  }
 },
 "nbformat": 4,
 "nbformat_minor": 2
}
