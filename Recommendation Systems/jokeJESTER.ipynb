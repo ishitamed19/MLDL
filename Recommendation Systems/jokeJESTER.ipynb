{
 "cells": [
  {
   "cell_type": "code",
   "execution_count": 1,
   "metadata": {},
   "outputs": [
    {
     "name": "stderr",
     "output_type": "stream",
     "text": [
      "/anaconda/lib/python3.6/site-packages/lightfm/_lightfm_fast.py:9: UserWarning: LightFM was compiled without OpenMP support. Only a single thread will be used.\n",
      "  warnings.warn('LightFM was compiled without OpenMP support. '\n"
     ]
    }
   ],
   "source": [
    "#### IMPORTING DEPENDENCIES ####\n",
    "\n",
    "import numpy as np\n",
    "import pandas as pd\n",
    "from lightfm import LightFM\n"
   ]
  },
  {
   "cell_type": "code",
   "execution_count": 2,
   "metadata": {
    "collapsed": true
   },
   "outputs": [],
   "source": [
    "#### IMPORTING DATASETS ####\n",
    "\n",
    "training_set = pd.read_csv('jester_train.csv')\n",
    "test_set = pd.read_csv('jester_test.csv')"
   ]
  },
  {
   "cell_type": "code",
   "execution_count": 3,
   "metadata": {},
   "outputs": [
    {
     "data": {
      "text/html": [
       "<div>\n",
       "<style>\n",
       "    .dataframe thead tr:only-child th {\n",
       "        text-align: right;\n",
       "    }\n",
       "\n",
       "    .dataframe thead th {\n",
       "        text-align: left;\n",
       "    }\n",
       "\n",
       "    .dataframe tbody tr th {\n",
       "        vertical-align: top;\n",
       "    }\n",
       "</style>\n",
       "<table border=\"1\" class=\"dataframe\">\n",
       "  <thead>\n",
       "    <tr style=\"text-align: right;\">\n",
       "      <th></th>\n",
       "      <th>user_id</th>\n",
       "      <th>joke_id</th>\n",
       "      <th>rating</th>\n",
       "    </tr>\n",
       "  </thead>\n",
       "  <tbody>\n",
       "    <tr>\n",
       "      <th>0</th>\n",
       "      <td>7302</td>\n",
       "      <td>29</td>\n",
       "      <td>7.156</td>\n",
       "    </tr>\n",
       "    <tr>\n",
       "      <th>1</th>\n",
       "      <td>61815</td>\n",
       "      <td>46</td>\n",
       "      <td>6.375</td>\n",
       "    </tr>\n",
       "    <tr>\n",
       "      <th>2</th>\n",
       "      <td>31128</td>\n",
       "      <td>96</td>\n",
       "      <td>2.281</td>\n",
       "    </tr>\n",
       "    <tr>\n",
       "      <th>3</th>\n",
       "      <td>36125</td>\n",
       "      <td>147</td>\n",
       "      <td>-1.781</td>\n",
       "    </tr>\n",
       "    <tr>\n",
       "      <th>4</th>\n",
       "      <td>18007</td>\n",
       "      <td>60</td>\n",
       "      <td>2.188</td>\n",
       "    </tr>\n",
       "  </tbody>\n",
       "</table>\n",
       "</div>"
      ],
      "text/plain": [
       "   user_id  joke_id  rating\n",
       "0     7302       29   7.156\n",
       "1    61815       46   6.375\n",
       "2    31128       96   2.281\n",
       "3    36125      147  -1.781\n",
       "4    18007       60   2.188"
      ]
     },
     "execution_count": 3,
     "metadata": {},
     "output_type": "execute_result"
    }
   ],
   "source": [
    "#### SANITY CHECK ####\n",
    "\n",
    "training_set.head()"
   ]
  },
  {
   "cell_type": "code",
   "execution_count": 4,
   "metadata": {},
   "outputs": [],
   "source": [
    "#### CONVERTING THE DATA INTO 2D MATRIX ####\n",
    "\n",
    "data, row, col = [], [], []\n",
    "jokes, users = {}, {}"
   ]
  },
  {
   "cell_type": "code",
   "execution_count": 5,
   "metadata": {},
   "outputs": [],
   "source": [
    "for n in range(0, 100000):\n",
    "    user = int(training_set.user_id[n])\n",
    "    joke = int(training_set.joke_id[n])\n",
    "    rating = float(training_set.rating[n])\n",
    "    \n",
    "    if user not in users:\n",
    "        users[user] = len(users)\n",
    "\n",
    "    if joke not in jokes:\n",
    "        jokes[joke] = len(jokes)\n",
    "        \n",
    "    data.append(rating)\n",
    "    row.append(users[user])\n",
    "    col.append(jokes[joke])            "
   ]
  },
  {
   "cell_type": "code",
   "execution_count": 6,
   "metadata": {},
   "outputs": [],
   "source": [
    "#### SPARSING THE MATRIX ####\n",
    "\n",
    "from scipy.sparse import coo_matrix\n",
    "\n",
    "coo = coo_matrix((data,(row,col))).tocsr()"
   ]
  },
  {
   "cell_type": "code",
   "execution_count": 7,
   "metadata": {},
   "outputs": [],
   "source": [
    "#### CLEANING TEST DATA (OPTIONAL) ####\n",
    "\n",
    "test_user, test_joke = [], []\n",
    "\n",
    "testusers, testjokes = {}, {}\n",
    "for n in range(len(test_set.user_id)):\n",
    "    user = int(test_set.user_id[n])\n",
    "    joke = int(test_set.joke_id[n])\n",
    "    \n",
    "    if user not in testusers:\n",
    "        testusers[user] = len(testusers)\n",
    "\n",
    "    if joke not in testjokes:\n",
    "        testjokes[joke] = len(testjokes)\n",
    "        \n",
    "    test_user.append(testusers[user])\n",
    "    test_joke.append(testjokes[joke])      "
   ]
  },
  {
   "cell_type": "code",
   "execution_count": 8,
   "metadata": {},
   "outputs": [
    {
     "data": {
      "text/plain": [
       "<lightfm.lightfm.LightFM at 0x111de2710>"
      ]
     },
     "execution_count": 8,
     "metadata": {},
     "output_type": "execute_result"
    }
   ],
   "source": [
    "#### THE MODEL ####\n",
    "\n",
    "model = LightFM(loss='warp')\n",
    "model.fit(coo, epochs=30, num_threads=2)"
   ]
  },
  {
   "cell_type": "code",
   "execution_count": 9,
   "metadata": {},
   "outputs": [],
   "source": [
    "n_items = coo.shape[1]"
   ]
  },
  {
   "cell_type": "code",
   "execution_count": 12,
   "metadata": {},
   "outputs": [],
   "source": [
    "#### PREDICTING ####\n",
    "\n",
    "def get_recommendations(model, coo_mtrx, users_ids):\n",
    "    \n",
    "    for user in users_ids:\n",
    "\n",
    "        # TODO create known positives\n",
    "        \n",
    "        # Artists the model predicts they will like\n",
    "        scores = model.predict(user, np.arange(n_items))\n",
    "        top_scores = np.argsort(-scores)[:3]\n",
    "\n",
    "        print('Recomendations for user %s:' % user)\n",
    "\n",
    "        for x in top_scores[:3]:\n",
    "            print(\"Joke Number: %s\" % x)\n",
    "           \n",
    "            \n",
    "            "
   ]
  },
  {
   "cell_type": "code",
   "execution_count": 13,
   "metadata": {},
   "outputs": [
    {
     "name": "stdout",
     "output_type": "stream",
     "text": [
      "Recomendations for user 4:\n",
      "Joke Number: 83\n",
      "Joke Number: 6\n",
      "Joke Number: 90\n",
      "Recomendations for user 50:\n",
      "Joke Number: 49\n",
      "Joke Number: 14\n",
      "Joke Number: 74\n",
      "Recomendations for user 30:\n",
      "Joke Number: 86\n",
      "Joke Number: 37\n",
      "Joke Number: 99\n"
     ]
    }
   ],
   "source": [
    "#### RESULT ####\n",
    "\n",
    "get_recommendations(model, coo, [4, 50,30])"
   ]
  },
  {
   "cell_type": "code",
   "execution_count": null,
   "metadata": {},
   "outputs": [],
   "source": []
  },
  {
   "cell_type": "code",
   "execution_count": null,
   "metadata": {},
   "outputs": [],
   "source": []
  },
  {
   "cell_type": "code",
   "execution_count": null,
   "metadata": {
    "collapsed": true
   },
   "outputs": [],
   "source": []
  }
 ],
 "metadata": {
  "kernelspec": {
   "display_name": "Python 3",
   "language": "python",
   "name": "python3"
  },
  "language_info": {
   "codemirror_mode": {
    "name": "ipython",
    "version": 3
   },
   "file_extension": ".py",
   "mimetype": "text/x-python",
   "name": "python",
   "nbconvert_exporter": "python",
   "pygments_lexer": "ipython3",
   "version": "3.6.1"
  }
 },
 "nbformat": 4,
 "nbformat_minor": 2
}
