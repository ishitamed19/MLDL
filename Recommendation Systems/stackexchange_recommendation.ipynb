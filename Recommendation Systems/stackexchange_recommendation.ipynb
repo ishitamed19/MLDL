{
 "cells": [
  {
   "cell_type": "markdown",
   "metadata": {},
   "source": [
    "<html>\n",
    "<h1>StackOverflow Prediction using LightFM</h1>\n",
    "\n",
    "<p> TODO: Jester dataset and fetch method </p>\n",
    "</html>\n"
   ]
  },
  {
   "cell_type": "code",
   "execution_count": 3,
   "metadata": {},
   "outputs": [],
   "source": [
    "#### IMPORTING DEPENDENCIES ####\n",
    "\n",
    "import numpy as np\n",
    "from lightfm.datasets import fetch_stackexchange\n",
    "from lightfm import LightFM"
   ]
  },
  {
   "cell_type": "code",
   "execution_count": 5,
   "metadata": {},
   "outputs": [],
   "source": [
    "#### Fetching the dataset ####\n",
    "\n",
    "data = fetch_stackexchange('crossvalidated')"
   ]
  },
  {
   "cell_type": "code",
   "execution_count": 6,
   "metadata": {},
   "outputs": [
    {
     "name": "stdout",
     "output_type": "stream",
     "text": [
      "<2837x72360 sparse matrix of type '<class 'numpy.float32'>'\n",
      "\twith 51472 stored elements in COOrdinate format>\n",
      "<2837x72360 sparse matrix of type '<class 'numpy.float32'>'\n",
      "\twith 7885 stored elements in COOrdinate format>\n"
     ]
    }
   ],
   "source": [
    "#### Retreiving train & test data ####\n",
    "\n",
    "print(repr(data['train']))\n",
    "print(repr(data['test']))"
   ]
  },
  {
   "cell_type": "code",
   "execution_count": 7,
   "metadata": {},
   "outputs": [
    {
     "data": {
      "text/plain": [
       "<lightfm.lightfm.LightFM at 0x1120c4b70>"
      ]
     },
     "execution_count": 7,
     "metadata": {},
     "output_type": "execute_result"
    }
   ],
   "source": [
    "##### CREATING THE MODEL #####\n",
    "\n",
    "model = LightFM(loss='warp')  # WARP - Weighted Approximated-Rank Pairwise\n",
    "model.fit(data['train'], epochs=30, num_threads=2)\n",
    "\n"
   ]
  },
  {
   "cell_type": "code",
   "execution_count": 8,
   "metadata": {},
   "outputs": [],
   "source": [
    "#### Generating recommendation ####\n",
    "\n",
    "def sample_recommendation(model, data, user_ids):\n",
    "\n",
    "    #number of users and questions in training data\n",
    "    n_users, n_items = data['train'].shape\n",
    "\n",
    "    #generate recommendations for each user we input\n",
    "    for user_id in user_ids:\n",
    "\n",
    "        #questions they already answered\n",
    "        known_positives = data['item_feature_labels'][data['train'].tocsr()[user_id].indices]\n",
    "\n",
    "        #questions our model predicts they will like\n",
    "        scores = model.predict(user_id, np.arange(n_items))\n",
    "        #rank them in order of most liked to least\n",
    "        top_items = data['item_feature_labels'][np.argsort(-scores)]\n",
    "\n",
    "        #print out the results\n",
    "        print(\"User %s\" % user_id)\n",
    "        print(\"     Known positives:\")\n",
    "\n",
    "        for x in known_positives[:3]:\n",
    "            print(\"        %s\" % x)\n",
    "\n",
    "        print(\"     Recommended:\")\n",
    "\n",
    "        for x in top_items[:3]:\n",
    "            print(\"        %s\" % x)\n",
    "    "
   ]
  },
  {
   "cell_type": "code",
   "execution_count": 9,
   "metadata": {},
   "outputs": [
    {
     "name": "stdout",
     "output_type": "stream",
     "text": [
      "User 2\n",
      "     Known positives:\n",
      "        question_id:2\n",
      "        question_id:5\n",
      "        question_id:6\n",
      "     Recommended:\n",
      "        question_id:170\n",
      "        question_id:1121\n",
      "        question_id:115\n",
      "User 10\n",
      "     Known positives:\n",
      "        question_id:14\n",
      "        question_id:16\n",
      "        question_id:83\n",
      "     Recommended:\n",
      "        question_id:170\n",
      "        question_id:69\n",
      "        question_id:294\n",
      "User 19\n",
      "     Known positives:\n",
      "        question_id:19\n",
      "        question_id:27\n",
      "        question_id:42\n",
      "     Recommended:\n",
      "        question_id:254\n",
      "        question_id:11715\n",
      "        question_id:16\n"
     ]
    }
   ],
   "source": [
    "sample_recommendation(model, data, [2, 10, 19])"
   ]
  },
  {
   "cell_type": "code",
   "execution_count": null,
   "metadata": {
    "collapsed": true
   },
   "outputs": [],
   "source": []
  }
 ],
 "metadata": {
  "kernelspec": {
   "display_name": "Python 3",
   "language": "python",
   "name": "python3"
  },
  "language_info": {
   "codemirror_mode": {
    "name": "ipython",
    "version": 3
   },
   "file_extension": ".py",
   "mimetype": "text/x-python",
   "name": "python",
   "nbconvert_exporter": "python",
   "pygments_lexer": "ipython3",
   "version": "3.6.1"
  }
 },
 "nbformat": 4,
 "nbformat_minor": 2
}
