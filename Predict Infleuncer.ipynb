{
 "cells": [
  {
   "cell_type": "code",
   "execution_count": 3,
   "metadata": {},
   "outputs": [],
   "source": [
    "import numpy as np\n",
    "import pandas as pd\n",
    "import os\n",
    "import sys\n",
    "import sklearn"
   ]
  },
  {
   "cell_type": "code",
   "execution_count": 4,
   "metadata": {},
   "outputs": [],
   "source": [
    "main_dir = '/Users/ishitamed/Downloads/Predict-Influencer-Dataset'"
   ]
  },
  {
   "cell_type": "code",
   "execution_count": 5,
   "metadata": {},
   "outputs": [],
   "source": [
    "test_data = pd.read_csv(os.path.join(main_dir,'test.csv'))\n",
    "train_data = pd.read_csv(os.path.join(main_dir,'train.csv'))"
   ]
  },
  {
   "cell_type": "code",
   "execution_count": 6,
   "metadata": {},
   "outputs": [
    {
     "data": {
      "text/html": [
       "<div>\n",
       "<style scoped>\n",
       "    .dataframe tbody tr th:only-of-type {\n",
       "        vertical-align: middle;\n",
       "    }\n",
       "\n",
       "    .dataframe tbody tr th {\n",
       "        vertical-align: top;\n",
       "    }\n",
       "\n",
       "    .dataframe thead th {\n",
       "        text-align: right;\n",
       "    }\n",
       "</style>\n",
       "<table border=\"1\" class=\"dataframe\">\n",
       "  <thead>\n",
       "    <tr style=\"text-align: right;\">\n",
       "      <th></th>\n",
       "      <th>Choice</th>\n",
       "      <th>A_follower_count</th>\n",
       "      <th>A_following_count</th>\n",
       "      <th>A_listed_count</th>\n",
       "      <th>A_mentions_received</th>\n",
       "      <th>A_retweets_received</th>\n",
       "      <th>A_mentions_sent</th>\n",
       "      <th>A_retweets_sent</th>\n",
       "      <th>A_posts</th>\n",
       "      <th>A_network_feature_1</th>\n",
       "      <th>...</th>\n",
       "      <th>B_following_count</th>\n",
       "      <th>B_listed_count</th>\n",
       "      <th>B_mentions_received</th>\n",
       "      <th>B_retweets_received</th>\n",
       "      <th>B_mentions_sent</th>\n",
       "      <th>B_retweets_sent</th>\n",
       "      <th>B_posts</th>\n",
       "      <th>B_network_feature_1</th>\n",
       "      <th>B_network_feature_2</th>\n",
       "      <th>B_network_feature_3</th>\n",
       "    </tr>\n",
       "  </thead>\n",
       "  <tbody>\n",
       "    <tr>\n",
       "      <th>0</th>\n",
       "      <td>0</td>\n",
       "      <td>228</td>\n",
       "      <td>302</td>\n",
       "      <td>3</td>\n",
       "      <td>0.583979</td>\n",
       "      <td>0.100503</td>\n",
       "      <td>0.100503</td>\n",
       "      <td>0.100503</td>\n",
       "      <td>0.362150</td>\n",
       "      <td>2</td>\n",
       "      <td>...</td>\n",
       "      <td>29808</td>\n",
       "      <td>1689</td>\n",
       "      <td>15.430498</td>\n",
       "      <td>3.984029</td>\n",
       "      <td>8.204331</td>\n",
       "      <td>0.332423</td>\n",
       "      <td>6.988815</td>\n",
       "      <td>66</td>\n",
       "      <td>75.530303</td>\n",
       "      <td>1916.893939</td>\n",
       "    </tr>\n",
       "    <tr>\n",
       "      <th>1</th>\n",
       "      <td>0</td>\n",
       "      <td>21591</td>\n",
       "      <td>1179</td>\n",
       "      <td>228</td>\n",
       "      <td>90.456506</td>\n",
       "      <td>25.798292</td>\n",
       "      <td>5.709329</td>\n",
       "      <td>1.111159</td>\n",
       "      <td>5.176620</td>\n",
       "      <td>369</td>\n",
       "      <td>...</td>\n",
       "      <td>848</td>\n",
       "      <td>1610</td>\n",
       "      <td>40.495021</td>\n",
       "      <td>8.943607</td>\n",
       "      <td>3.227677</td>\n",
       "      <td>0.564343</td>\n",
       "      <td>1.070321</td>\n",
       "      <td>163</td>\n",
       "      <td>132.030675</td>\n",
       "      <td>2931.515337</td>\n",
       "    </tr>\n",
       "    <tr>\n",
       "      <th>2</th>\n",
       "      <td>0</td>\n",
       "      <td>7310</td>\n",
       "      <td>1215</td>\n",
       "      <td>101</td>\n",
       "      <td>25.503644</td>\n",
       "      <td>9.556347</td>\n",
       "      <td>5.361519</td>\n",
       "      <td>0.591206</td>\n",
       "      <td>3.589718</td>\n",
       "      <td>95</td>\n",
       "      <td>...</td>\n",
       "      <td>482</td>\n",
       "      <td>206</td>\n",
       "      <td>0.734696</td>\n",
       "      <td>0.354379</td>\n",
       "      <td>0.603202</td>\n",
       "      <td>0.100503</td>\n",
       "      <td>0.603202</td>\n",
       "      <td>3</td>\n",
       "      <td>10.333333</td>\n",
       "      <td>277.333333</td>\n",
       "    </tr>\n",
       "    <tr>\n",
       "      <th>3</th>\n",
       "      <td>0</td>\n",
       "      <td>20</td>\n",
       "      <td>7</td>\n",
       "      <td>2</td>\n",
       "      <td>7.690824</td>\n",
       "      <td>0.277306</td>\n",
       "      <td>1.331508</td>\n",
       "      <td>0.100503</td>\n",
       "      <td>2.830627</td>\n",
       "      <td>6</td>\n",
       "      <td>...</td>\n",
       "      <td>17637</td>\n",
       "      <td>278</td>\n",
       "      <td>572.874856</td>\n",
       "      <td>390.293681</td>\n",
       "      <td>27.552040</td>\n",
       "      <td>7.167557</td>\n",
       "      <td>32.101906</td>\n",
       "      <td>1762</td>\n",
       "      <td>23.469296</td>\n",
       "      <td>1395.845634</td>\n",
       "    </tr>\n",
       "    <tr>\n",
       "      <th>4</th>\n",
       "      <td>1</td>\n",
       "      <td>45589</td>\n",
       "      <td>862</td>\n",
       "      <td>2641</td>\n",
       "      <td>148.854279</td>\n",
       "      <td>36.998884</td>\n",
       "      <td>27.881768</td>\n",
       "      <td>3.333492</td>\n",
       "      <td>23.861282</td>\n",
       "      <td>551</td>\n",
       "      <td>...</td>\n",
       "      <td>1711</td>\n",
       "      <td>181</td>\n",
       "      <td>21.601866</td>\n",
       "      <td>3.581661</td>\n",
       "      <td>6.764657</td>\n",
       "      <td>1.119727</td>\n",
       "      <td>4.563246</td>\n",
       "      <td>85</td>\n",
       "      <td>48.500000</td>\n",
       "      <td>1993.627907</td>\n",
       "    </tr>\n",
       "  </tbody>\n",
       "</table>\n",
       "<p>5 rows × 23 columns</p>\n",
       "</div>"
      ],
      "text/plain": [
       "   Choice  A_follower_count  A_following_count  A_listed_count  \\\n",
       "0       0               228                302               3   \n",
       "1       0             21591               1179             228   \n",
       "2       0              7310               1215             101   \n",
       "3       0                20                  7               2   \n",
       "4       1             45589                862            2641   \n",
       "\n",
       "   A_mentions_received  A_retweets_received  A_mentions_sent  A_retweets_sent  \\\n",
       "0             0.583979             0.100503         0.100503         0.100503   \n",
       "1            90.456506            25.798292         5.709329         1.111159   \n",
       "2            25.503644             9.556347         5.361519         0.591206   \n",
       "3             7.690824             0.277306         1.331508         0.100503   \n",
       "4           148.854279            36.998884        27.881768         3.333492   \n",
       "\n",
       "     A_posts  A_network_feature_1  ...  B_following_count  B_listed_count  \\\n",
       "0   0.362150                    2  ...              29808            1689   \n",
       "1   5.176620                  369  ...                848            1610   \n",
       "2   3.589718                   95  ...                482             206   \n",
       "3   2.830627                    6  ...              17637             278   \n",
       "4  23.861282                  551  ...               1711             181   \n",
       "\n",
       "   B_mentions_received  B_retweets_received  B_mentions_sent  B_retweets_sent  \\\n",
       "0            15.430498             3.984029         8.204331         0.332423   \n",
       "1            40.495021             8.943607         3.227677         0.564343   \n",
       "2             0.734696             0.354379         0.603202         0.100503   \n",
       "3           572.874856           390.293681        27.552040         7.167557   \n",
       "4            21.601866             3.581661         6.764657         1.119727   \n",
       "\n",
       "     B_posts  B_network_feature_1  B_network_feature_2  B_network_feature_3  \n",
       "0   6.988815                   66            75.530303          1916.893939  \n",
       "1   1.070321                  163           132.030675          2931.515337  \n",
       "2   0.603202                    3            10.333333           277.333333  \n",
       "3  32.101906                 1762            23.469296          1395.845634  \n",
       "4   4.563246                   85            48.500000          1993.627907  \n",
       "\n",
       "[5 rows x 23 columns]"
      ]
     },
     "execution_count": 6,
     "metadata": {},
     "output_type": "execute_result"
    }
   ],
   "source": [
    "train_data.head()"
   ]
  },
  {
   "cell_type": "code",
   "execution_count": 7,
   "metadata": {},
   "outputs": [
    {
     "name": "stdout",
     "output_type": "stream",
     "text": [
      "            Choice  A_follower_count  A_following_count  A_listed_count  \\\n",
      "count  5500.000000      5.500000e+03       5.500000e+03     5500.000000   \n",
      "mean      0.509455      6.498840e+05       1.265895e+04     5952.453273   \n",
      "std       0.499956      2.028787e+06       4.900867e+04    17339.141191   \n",
      "min       0.000000      1.600000e+01       0.000000e+00        0.000000   \n",
      "25%       0.000000      2.663750e+03       3.220000e+02       85.000000   \n",
      "50%       1.000000      4.558900e+04       7.780000e+02      932.000000   \n",
      "75%       1.000000      3.927380e+05       2.838000e+03     6734.000000   \n",
      "max       1.000000      3.654319e+07       1.165830e+06   549144.000000   \n",
      "\n",
      "       A_mentions_received  A_retweets_received  A_mentions_sent  \\\n",
      "count         5.500000e+03          5500.000000      5500.000000   \n",
      "mean          2.666032e+03          1032.371839         6.011873   \n",
      "std           2.916543e+04         10954.953223         9.519797   \n",
      "min           1.005034e-01             0.100503         0.100503   \n",
      "25%           3.453649e+00             0.716816         0.359534   \n",
      "50%           4.876542e+01            14.029113         2.299666   \n",
      "75%           3.498196e+02           118.704407         7.198330   \n",
      "max           1.145219e+06        435825.874241        76.809514   \n",
      "\n",
      "       A_retweets_sent      A_posts  A_network_feature_1  ...  \\\n",
      "count      5500.000000  5500.000000          5500.000000  ...   \n",
      "mean          1.109924     9.090730          5267.768000  ...   \n",
      "std           1.910104    18.311060         28946.777345  ...   \n",
      "min           0.100503     0.100503             0.000000  ...   \n",
      "25%           0.100503     0.632440            12.000000  ...   \n",
      "50%           0.341936     3.555194           195.000000  ...   \n",
      "75%           1.320681    10.691878          1323.000000  ...   \n",
      "max          16.290540   193.072418        920838.000000  ...   \n",
      "\n",
      "       B_following_count  B_listed_count  B_mentions_received  \\\n",
      "count        5500.000000     5500.000000         5.500000e+03   \n",
      "mean        12738.259818     5903.148364         2.554598e+03   \n",
      "std         50054.520874    16298.462018         2.508873e+04   \n",
      "min             0.000000        0.000000         1.005034e-01   \n",
      "25%           322.000000       75.000000         3.260473e+00   \n",
      "50%           773.000000      890.000000         4.876542e+01   \n",
      "75%          2838.000000     6734.000000         3.743699e+02   \n",
      "max        664324.000000   549144.000000         1.145219e+06   \n",
      "\n",
      "       B_retweets_received  B_mentions_sent  B_retweets_sent      B_posts  \\\n",
      "count          5500.000000      5500.000000      5500.000000  5500.000000   \n",
      "mean            997.149954         6.099658         1.106236     9.505821   \n",
      "std            9342.006880         9.729557         1.939914    19.424680   \n",
      "min               0.100503         0.100503         0.100503     0.100503   \n",
      "25%               0.714556         0.356943         0.100503     0.822584   \n",
      "50%              14.029113         2.251398         0.341936     3.342999   \n",
      "75%             107.081021         6.866840         1.320681    10.600502   \n",
      "max          435825.874241        76.809514        16.290540   193.072418   \n",
      "\n",
      "       B_network_feature_1  B_network_feature_2  B_network_feature_3  \n",
      "count          5500.000000          5500.000000          5500.000000  \n",
      "mean           5254.933636            85.024196          3745.175480  \n",
      "std           26778.820125           106.689384          5518.399590  \n",
      "min               0.000000             0.000000             0.000000  \n",
      "25%              11.000000            15.176568          1206.500000  \n",
      "50%             190.000000            54.925234          2206.420734  \n",
      "75%            1323.000000           112.191489          4349.908608  \n",
      "max          920838.000000          1861.583333         75526.083333  \n",
      "\n",
      "[8 rows x 23 columns]\n"
     ]
    }
   ],
   "source": [
    "print(train_data.describe())"
   ]
  },
  {
   "cell_type": "code",
   "execution_count": 8,
   "metadata": {},
   "outputs": [],
   "source": [
    "def pre_pro(df):\n",
    "    df = df.astype('float32')\n",
    "    col = df.columns\n",
    "    for i in range(len(col)):\n",
    "        m = df.loc[df[col[i]] != -np.inf, col[i]].min()\n",
    "        df[col[i]].replace(-np.inf,m,inplace=True)\n",
    "        M = df.loc[df[col[i]] != np.inf, col[i]].max()\n",
    "        df[col[i]].replace(np.inf,M,inplace=True)\n",
    "    \n",
    "    df.fillna(0, inplace = True)\n",
    "    return df "
   ]
  },
  {
   "cell_type": "code",
   "execution_count": 9,
   "metadata": {},
   "outputs": [],
   "source": [
    "def feat_eng(df):\n",
    "    df.replace(0, 0.001)\n",
    "    \n",
    "    df['follower_diff'] = (df['A_follower_count'] > df['B_follower_count'])\n",
    "    df['following_diff'] = (df['A_following_count'] > df['B_following_count'])\n",
    "    df['listed_diff'] = (df['A_listed_count'] > df['B_listed_count'])\n",
    "    df['ment_rec_diff'] = (df['A_mentions_received'] > df['B_mentions_received'])\n",
    "    df['rt_rec_diff'] = (df['A_retweets_received'] > df['B_retweets_received'])\n",
    "    df['ment_sent_diff'] = (df['A_mentions_sent'] > df['B_mentions_sent'])\n",
    "    df['rt_sent_diff'] = (df['A_retweets_sent'] > df['B_retweets_sent'])\n",
    "    df['posts_diff'] = (df['A_posts'] > df['B_posts'])\n",
    "\n",
    "    df['A_pop_ratio'] = df['A_mentions_sent']/df['A_listed_count']\n",
    "    df['A_foll_ratio'] = df['A_follower_count']/df['A_following_count']\n",
    "    df['A_ment_ratio'] = df['A_mentions_sent']/df['A_mentions_received']\n",
    "    df['A_rt_ratio'] = df['A_retweets_sent']/df['A_retweets_received']\n",
    "    \n",
    "    df['B_pop_ratio'] = df['B_mentions_sent']/df['B_listed_count']\n",
    "    df['B_foll_ratio'] = df['B_follower_count']/df['B_following_count']\n",
    "    df['B_ment_ratio'] = df['B_mentions_sent']/df['B_mentions_received']\n",
    "    df['B_rt_ratio'] = df['B_retweets_sent']/df['B_retweets_received']\n",
    "    \n",
    "    df['A/B_foll_ratio'] = (df['A_foll_ratio'] > df['B_foll_ratio'])\n",
    "    df['A/B_ment_ratio'] = (df['A_ment_ratio'] > df['B_ment_ratio'])\n",
    "    df['A/B_rt_ratio'] = (df['A_rt_ratio'] > df['B_rt_ratio'])\n",
    "\n",
    "    df['nf1_diff'] = (df['A_network_feature_1'] > df['B_network_feature_1'])\n",
    "    df['nf2_diff'] = (df['A_network_feature_2'] > df['B_network_feature_2'])\n",
    "    df['nf3_diff'] = (df['A_network_feature_3'] > df['B_network_feature_3'])\n",
    "    \n",
    "    df['nf3_ratio'] = df['A_network_feature_3'] / df['B_network_feature_3']\n",
    "    df['nf2_ratio'] = df['A_network_feature_2'] / df['B_network_feature_2']\n",
    "    df['nf1_ratio'] = df['A_network_feature_1'] / df['B_network_feature_1']\n",
    "    \n",
    "    return(pre_pro(df))"
   ]
  },
  {
   "cell_type": "code",
   "execution_count": 10,
   "metadata": {},
   "outputs": [],
   "source": [
    "proc_train = feat_eng(train_data.copy())\n",
    "proc_test = feat_eng(test_data.copy())"
   ]
  },
  {
   "cell_type": "code",
   "execution_count": 11,
   "metadata": {},
   "outputs": [
    {
     "name": "stderr",
     "output_type": "stream",
     "text": [
      "/Library/Frameworks/Python.framework/Versions/3.7/lib/python3.7/site-packages/ipykernel_launcher.py:1: FutureWarning: Method .as_matrix will be removed in a future version. Use .values instead.\n",
      "  \"\"\"Entry point for launching an IPython kernel.\n",
      "/Library/Frameworks/Python.framework/Versions/3.7/lib/python3.7/site-packages/ipykernel_launcher.py:2: FutureWarning: Method .as_matrix will be removed in a future version. Use .values instead.\n",
      "  \n"
     ]
    }
   ],
   "source": [
    "X = proc_train.iloc[:,1:].as_matrix()\n",
    "Y = np.reshape(proc_train[\"Choice\"].as_matrix(), (-1, 1))"
   ]
  },
  {
   "cell_type": "code",
   "execution_count": 12,
   "metadata": {},
   "outputs": [
    {
     "name": "stdout",
     "output_type": "stream",
     "text": [
      "X:  (5500, 47)\n",
      "Y:  (5500, 1)\n"
     ]
    }
   ],
   "source": [
    "\n",
    "print(\"X: \", X.shape)\n",
    "\n",
    "print(\"Y: \",Y.shape)"
   ]
  },
  {
   "cell_type": "markdown",
   "metadata": {},
   "source": [
    "# Simple Nueral Network\n",
    "\n",
    "Public Score - 0.8200"
   ]
  },
  {
   "cell_type": "code",
   "execution_count": 41,
   "metadata": {},
   "outputs": [],
   "source": [
    "from sklearn.model_selection import train_test_split\n",
    "X_train, X_validate, Y_train, Y_validate = sklearn.model_selection.train_test_split(X, Y, test_size=0.25, random_state=42)"
   ]
  },
  {
   "cell_type": "code",
   "execution_count": 42,
   "metadata": {},
   "outputs": [
    {
     "name": "stdout",
     "output_type": "stream",
     "text": [
      "Training set size:  (4125, 47)\n",
      "Validation set size:  (1375, 47)\n"
     ]
    }
   ],
   "source": [
    "print(\"Training set size: \", X_train.shape)\n",
    "print(\"Validation set size: \", X_validate.shape)"
   ]
  },
  {
   "cell_type": "code",
   "execution_count": 45,
   "metadata": {},
   "outputs": [
    {
     "name": "stderr",
     "output_type": "stream",
     "text": [
      "Using TensorFlow backend.\n"
     ]
    },
    {
     "ename": "ModuleNotFoundError",
     "evalue": "No module named 'callback'",
     "output_type": "error",
     "traceback": [
      "\u001b[0;31m---------------------------------------------------------------------------\u001b[0m",
      "\u001b[0;31mModuleNotFoundError\u001b[0m                       Traceback (most recent call last)",
      "\u001b[0;32m<ipython-input-45-c45b29d2b348>\u001b[0m in \u001b[0;36m<module>\u001b[0;34m\u001b[0m\n\u001b[1;32m      4\u001b[0m \u001b[0;32mfrom\u001b[0m \u001b[0mkeras\u001b[0m\u001b[0;34m.\u001b[0m\u001b[0mlayers\u001b[0m\u001b[0;34m.\u001b[0m\u001b[0mnormalization\u001b[0m \u001b[0;32mimport\u001b[0m \u001b[0mBatchNormalization\u001b[0m\u001b[0;34m\u001b[0m\u001b[0;34m\u001b[0m\u001b[0m\n\u001b[1;32m      5\u001b[0m \u001b[0;32mfrom\u001b[0m \u001b[0msklearn\u001b[0m\u001b[0;34m.\u001b[0m\u001b[0mmetrics\u001b[0m \u001b[0;32mimport\u001b[0m \u001b[0mroc_curve\u001b[0m\u001b[0;34m\u001b[0m\u001b[0;34m\u001b[0m\u001b[0m\n\u001b[0;32m----> 6\u001b[0;31m \u001b[0;32mimport\u001b[0m \u001b[0mcallback\u001b[0m\u001b[0;34m\u001b[0m\u001b[0;34m\u001b[0m\u001b[0m\n\u001b[0m",
      "\u001b[0;31mModuleNotFoundError\u001b[0m: No module named 'callback'"
     ]
    }
   ],
   "source": [
    "import keras\n",
    "from keras.models import Sequential\n",
    "from keras.layers import Dense, Dropout, Activation\n",
    "from keras.layers.normalization import BatchNormalization\n",
    "from sklearn.metrics import roc_curve"
   ]
  },
  {
   "cell_type": "code",
   "execution_count": 46,
   "metadata": {},
   "outputs": [
    {
     "name": "stderr",
     "output_type": "stream",
     "text": [
      "WARNING: Logging before flag parsing goes to stderr.\n",
      "W1217 20:23:50.400213 4702059968 deprecation.py:323] From /Library/Frameworks/Python.framework/Versions/3.7/lib/python3.7/site-packages/tensorflow/python/ops/nn_impl.py:180: add_dispatch_support.<locals>.wrapper (from tensorflow.python.ops.array_ops) is deprecated and will be removed in a future version.\n",
      "Instructions for updating:\n",
      "Use tf.where in 2.0, which has the same broadcast rule as np.where\n"
     ]
    }
   ],
   "source": [
    "model = Sequential()\n",
    "\n",
    "model.add(Dense(50, activation='relu', input_dim=47, kernel_initializer='uniform'))\n",
    "model.add(Dropout(0.5))\n",
    "model.add(Dense(10, kernel_initializer='uniform'))\n",
    "model.add(BatchNormalization())\n",
    "model.add(Dense(1, activation='sigmoid', kernel_initializer='uniform'))\n",
    "\n",
    "model.compile(loss='binary_crossentropy',\n",
    "          optimizer='adam',\n",
    "          metrics=['accuracy'])"
   ]
  },
  {
   "cell_type": "code",
   "execution_count": 47,
   "metadata": {},
   "outputs": [
    {
     "name": "stderr",
     "output_type": "stream",
     "text": [
      "W1217 20:24:28.681454 4702059968 deprecation_wrapper.py:119] From /Library/Frameworks/Python.framework/Versions/3.7/lib/python3.7/site-packages/keras/backend/tensorflow_backend.py:422: The name tf.global_variables is deprecated. Please use tf.compat.v1.global_variables instead.\n",
      "\n"
     ]
    },
    {
     "name": "stdout",
     "output_type": "stream",
     "text": [
      "Train on 4125 samples, validate on 1375 samples\n",
      "Epoch 1/20\n",
      "4125/4125 [==============================] - 1s 127us/step - loss: 0.6687 - accuracy: 0.6330 - val_loss: 0.6680 - val_accuracy: 0.7062\n",
      "Epoch 2/20\n",
      "4125/4125 [==============================] - 0s 61us/step - loss: 0.6471 - accuracy: 0.6778 - val_loss: 0.6727 - val_accuracy: 0.7011\n",
      "Epoch 3/20\n",
      "4125/4125 [==============================] - 0s 54us/step - loss: 0.6379 - accuracy: 0.6696 - val_loss: 0.6538 - val_accuracy: 0.7324\n",
      "Epoch 4/20\n",
      "4125/4125 [==============================] - 0s 33us/step - loss: 0.6260 - accuracy: 0.6754 - val_loss: 0.6381 - val_accuracy: 0.7484\n",
      "Epoch 5/20\n",
      "4125/4125 [==============================] - 0s 32us/step - loss: 0.6162 - accuracy: 0.6975 - val_loss: 0.6280 - val_accuracy: 0.7462\n",
      "Epoch 6/20\n",
      "4125/4125 [==============================] - 0s 33us/step - loss: 0.5999 - accuracy: 0.6989 - val_loss: 0.6156 - val_accuracy: 0.7455\n",
      "Epoch 7/20\n",
      "4125/4125 [==============================] - 0s 47us/step - loss: 0.5855 - accuracy: 0.7149 - val_loss: 0.5945 - val_accuracy: 0.7331\n",
      "Epoch 8/20\n",
      "4125/4125 [==============================] - 0s 46us/step - loss: 0.5742 - accuracy: 0.7176 - val_loss: 0.5861 - val_accuracy: 0.7425\n",
      "Epoch 9/20\n",
      "4125/4125 [==============================] - 0s 78us/step - loss: 0.5586 - accuracy: 0.7253 - val_loss: 0.5708 - val_accuracy: 0.7440\n",
      "Epoch 10/20\n",
      "4125/4125 [==============================] - 0s 34us/step - loss: 0.5594 - accuracy: 0.7343 - val_loss: 0.5659 - val_accuracy: 0.7447\n",
      "Epoch 11/20\n",
      "4125/4125 [==============================] - 0s 31us/step - loss: 0.5564 - accuracy: 0.7142 - val_loss: 0.5686 - val_accuracy: 0.7491\n",
      "Epoch 12/20\n",
      "4125/4125 [==============================] - 0s 39us/step - loss: 0.5452 - accuracy: 0.7224 - val_loss: 0.5417 - val_accuracy: 0.7462\n",
      "Epoch 13/20\n",
      "4125/4125 [==============================] - 0s 39us/step - loss: 0.5419 - accuracy: 0.7324 - val_loss: 0.5381 - val_accuracy: 0.7476\n",
      "Epoch 14/20\n",
      "4125/4125 [==============================] - 0s 49us/step - loss: 0.5440 - accuracy: 0.7212 - val_loss: 0.5521 - val_accuracy: 0.7542\n",
      "Epoch 15/20\n",
      "4125/4125 [==============================] - 0s 38us/step - loss: 0.5355 - accuracy: 0.7365 - val_loss: 0.5470 - val_accuracy: 0.7513\n",
      "Epoch 16/20\n",
      "4125/4125 [==============================] - 0s 77us/step - loss: 0.5375 - accuracy: 0.7319 - val_loss: 0.5361 - val_accuracy: 0.7513\n",
      "Epoch 17/20\n",
      "4125/4125 [==============================] - 0s 35us/step - loss: 0.5359 - accuracy: 0.7345 - val_loss: 0.5442 - val_accuracy: 0.7513\n",
      "Epoch 18/20\n",
      "4125/4125 [==============================] - 0s 39us/step - loss: 0.5282 - accuracy: 0.7377 - val_loss: 0.5526 - val_accuracy: 0.7571\n",
      "Epoch 19/20\n",
      "4125/4125 [==============================] - 0s 37us/step - loss: 0.5426 - accuracy: 0.7256 - val_loss: 0.5409 - val_accuracy: 0.7462\n",
      "Epoch 20/20\n",
      "4125/4125 [==============================] - 0s 41us/step - loss: 0.5369 - accuracy: 0.7302 - val_loss: 0.5336 - val_accuracy: 0.7556\n"
     ]
    },
    {
     "data": {
      "text/plain": [
       "<keras.callbacks.callbacks.History at 0x1336d2f28>"
      ]
     },
     "execution_count": 47,
     "metadata": {},
     "output_type": "execute_result"
    }
   ],
   "source": [
    "model.fit(X_train, Y_train, epochs=20, batch_size=64, validation_data=(X_validate, Y_validate))\n"
   ]
  },
  {
   "cell_type": "code",
   "execution_count": 51,
   "metadata": {},
   "outputs": [
    {
     "name": "stderr",
     "output_type": "stream",
     "text": [
      "/Library/Frameworks/Python.framework/Versions/3.7/lib/python3.7/site-packages/ipykernel_launcher.py:1: FutureWarning: Method .as_matrix will be removed in a future version. Use .values instead.\n",
      "  \"\"\"Entry point for launching an IPython kernel.\n"
     ]
    }
   ],
   "source": [
    "X_test = proc_test.as_matrix()"
   ]
  },
  {
   "cell_type": "code",
   "execution_count": 52,
   "metadata": {},
   "outputs": [
    {
     "name": "stdout",
     "output_type": "stream",
     "text": [
      "(5952, 47)\n"
     ]
    }
   ],
   "source": [
    "print(X_test.shape)"
   ]
  },
  {
   "cell_type": "code",
   "execution_count": 53,
   "metadata": {},
   "outputs": [],
   "source": [
    "Y_pred = model.predict(X_test)"
   ]
  },
  {
   "cell_type": "code",
   "execution_count": 54,
   "metadata": {},
   "outputs": [],
   "source": [
    "sample_submission = pd.read_csv(os.path.join(main_dir,'sample_predictions.csv'))"
   ]
  },
  {
   "cell_type": "code",
   "execution_count": 55,
   "metadata": {},
   "outputs": [],
   "source": [
    "sample_submission[\"Choice\"] = Y_pred"
   ]
  },
  {
   "cell_type": "code",
   "execution_count": 57,
   "metadata": {},
   "outputs": [],
   "source": [
    "sample_submission.to_csv('./submission_nn.csv', index=False)"
   ]
  },
  {
   "cell_type": "markdown",
   "metadata": {},
   "source": [
    "# Random Forest\n",
    "\n",
    "Public Score - 0.82"
   ]
  },
  {
   "cell_type": "code",
   "execution_count": 58,
   "metadata": {},
   "outputs": [
    {
     "name": "stderr",
     "output_type": "stream",
     "text": [
      "/Library/Frameworks/Python.framework/Versions/3.7/lib/python3.7/site-packages/ipykernel_launcher.py:8: DataConversionWarning: A column-vector y was passed when a 1d array was expected. Please change the shape of y to (n_samples,), for example using ravel().\n",
      "  \n"
     ]
    },
    {
     "data": {
      "text/plain": [
       "RandomForestClassifier(bootstrap=True, class_weight=None, criterion='gini',\n",
       "                       max_depth=None, max_features='sqrt', max_leaf_nodes=None,\n",
       "                       min_impurity_decrease=0.0, min_impurity_split=None,\n",
       "                       min_samples_leaf=1, min_samples_split=2,\n",
       "                       min_weight_fraction_leaf=0.0, n_estimators=175,\n",
       "                       n_jobs=None, oob_score=False, random_state=None,\n",
       "                       verbose=0, warm_start=False)"
      ]
     },
     "execution_count": 58,
     "metadata": {},
     "output_type": "execute_result"
    }
   ],
   "source": [
    "from sklearn.ensemble import RandomForestClassifier\n",
    "\n",
    "# Create the model with 100 trees\n",
    "model_rf = RandomForestClassifier(n_estimators=175, \n",
    "                               bootstrap = True,\n",
    "                               max_features = 'sqrt')\n",
    "# Fit on training data\n",
    "model_rf.fit(X_train, Y_train)"
   ]
  },
  {
   "cell_type": "code",
   "execution_count": 84,
   "metadata": {},
   "outputs": [
    {
     "name": "stdout",
     "output_type": "stream",
     "text": [
      "[[0.37838826]\n",
      " [0.5604128 ]\n",
      " [0.83372647]\n",
      " ...\n",
      " [0.08401162]\n",
      " [0.85313624]\n",
      " [0.33359203]]\n"
     ]
    }
   ],
   "source": [
    "# Actual class predictions\n",
    "y_pred = model.predict(X_validate)\n",
    "print(y_pred)"
   ]
  },
  {
   "cell_type": "code",
   "execution_count": 85,
   "metadata": {},
   "outputs": [],
   "source": [
    "Y_pred = []\n",
    "Y_test = []\n",
    "for val in y_pred:\n",
    "    if val>0.5:\n",
    "        Y_pred.append(1)\n",
    "    else:\n",
    "        Y_pred.append(0)"
   ]
  },
  {
   "cell_type": "code",
   "execution_count": 86,
   "metadata": {},
   "outputs": [
    {
     "name": "stdout",
     "output_type": "stream",
     "text": [
      "Accuracy: 0.7556363636363637\n",
      "Precision: 0.7556818181818182\n"
     ]
    }
   ],
   "source": [
    "#Import scikit-learn metrics module for accuracy calculation\n",
    "from sklearn import metrics\n",
    "\n",
    "# Model Accuracy: how often is the classifier correct?\n",
    "print(\"Accuracy:\",metrics.accuracy_score(Y_validate, Y_pred))\n",
    "\n",
    "# Model Precision: what percentage of positive tuples are labeled as such?\n",
    "print(\"Precision:\",metrics.precision_score(Y_validate, Y_pred))\n",
    "\n",
    "# Model Recall: what percentage of positive tuples are labelled as such?\n",
    "#print(\"Recall:\",metrics.recall_score(Y_validate, np.asarray(Y_pred)))\n",
    "\n",
    "# print(\"F1 score:\",metrics.f1_score(Y_validate, np.asarray(Y_pred)))"
   ]
  },
  {
   "cell_type": "code",
   "execution_count": 87,
   "metadata": {},
   "outputs": [
    {
     "name": "stdout",
     "output_type": "stream",
     "text": [
      "[[0.49160048]\n",
      " [0.4957737 ]\n",
      " [0.38750127]\n",
      " ...\n",
      " [0.50326276]\n",
      " [0.49542114]\n",
      " [0.49012652]]\n"
     ]
    }
   ],
   "source": [
    "# Actual class predictions\n",
    "y_test = model.predict(X_test)\n",
    "print(y_test)"
   ]
  },
  {
   "cell_type": "code",
   "execution_count": 89,
   "metadata": {},
   "outputs": [],
   "source": [
    "sample_submission[\"Choice\"] = y_test"
   ]
  },
  {
   "cell_type": "code",
   "execution_count": 90,
   "metadata": {},
   "outputs": [],
   "source": [
    "sample_submission.to_csv('./submission_rf.csv', index=False)"
   ]
  },
  {
   "cell_type": "code",
   "execution_count": null,
   "metadata": {},
   "outputs": [],
   "source": []
  }
 ],
 "metadata": {
  "kernelspec": {
   "display_name": "Python 3",
   "language": "python",
   "name": "python3"
  },
  "language_info": {
   "codemirror_mode": {
    "name": "ipython",
    "version": 3
   },
   "file_extension": ".py",
   "mimetype": "text/x-python",
   "name": "python",
   "nbconvert_exporter": "python",
   "pygments_lexer": "ipython3",
   "version": "3.7.3"
  }
 },
 "nbformat": 4,
 "nbformat_minor": 2
}
