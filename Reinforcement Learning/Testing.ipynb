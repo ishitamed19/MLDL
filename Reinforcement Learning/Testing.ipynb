{
 "cells": [
  {
   "cell_type": "code",
   "execution_count": 1,
   "metadata": {},
   "outputs": [
    {
     "name": "stderr",
     "output_type": "stream",
     "text": [
      "Using TensorFlow backend.\n",
      "/opt/anaconda3/envs/mlproject/lib/python3.6/site-packages/tensorflow/python/framework/dtypes.py:526: FutureWarning: Passing (type, 1) or '1type' as a synonym of type is deprecated; in a future version of numpy, it will be understood as (type, (1,)) / '(1,)type'.\n",
      "  _np_qint8 = np.dtype([(\"qint8\", np.int8, 1)])\n",
      "/opt/anaconda3/envs/mlproject/lib/python3.6/site-packages/tensorflow/python/framework/dtypes.py:527: FutureWarning: Passing (type, 1) or '1type' as a synonym of type is deprecated; in a future version of numpy, it will be understood as (type, (1,)) / '(1,)type'.\n",
      "  _np_quint8 = np.dtype([(\"quint8\", np.uint8, 1)])\n",
      "/opt/anaconda3/envs/mlproject/lib/python3.6/site-packages/tensorflow/python/framework/dtypes.py:528: FutureWarning: Passing (type, 1) or '1type' as a synonym of type is deprecated; in a future version of numpy, it will be understood as (type, (1,)) / '(1,)type'.\n",
      "  _np_qint16 = np.dtype([(\"qint16\", np.int16, 1)])\n",
      "/opt/anaconda3/envs/mlproject/lib/python3.6/site-packages/tensorflow/python/framework/dtypes.py:529: FutureWarning: Passing (type, 1) or '1type' as a synonym of type is deprecated; in a future version of numpy, it will be understood as (type, (1,)) / '(1,)type'.\n",
      "  _np_quint16 = np.dtype([(\"quint16\", np.uint16, 1)])\n",
      "/opt/anaconda3/envs/mlproject/lib/python3.6/site-packages/tensorflow/python/framework/dtypes.py:530: FutureWarning: Passing (type, 1) or '1type' as a synonym of type is deprecated; in a future version of numpy, it will be understood as (type, (1,)) / '(1,)type'.\n",
      "  _np_qint32 = np.dtype([(\"qint32\", np.int32, 1)])\n",
      "/opt/anaconda3/envs/mlproject/lib/python3.6/site-packages/tensorflow/python/framework/dtypes.py:535: FutureWarning: Passing (type, 1) or '1type' as a synonym of type is deprecated; in a future version of numpy, it will be understood as (type, (1,)) / '(1,)type'.\n",
      "  np_resource = np.dtype([(\"resource\", np.ubyte, 1)])\n"
     ]
    }
   ],
   "source": [
    "import numpy as np\n",
    "import sys\n",
    "import gym\n",
    "import pylab\n",
    "from collections import deque\n",
    "from keras.layers import Dense\n",
    "from keras.optimizers import Adam\n",
    "from keras.models import Sequential,load_model\n",
    "from keras.backend import clear_session\n",
    "from keras.initializers import he_uniform\n",
    "import random\n",
    "from collections import deque\n",
    "from matplotlib import pyplot as plt \n",
    "seed_value = 42"
   ]
  },
  {
   "cell_type": "code",
   "execution_count": 2,
   "metadata": {},
   "outputs": [],
   "source": [
    "class TestAgent:\n",
    "    def __init__(self, sspace_size, aspace_size,name,task):\n",
    "        self.sspace_size = sspace_size\n",
    "        self.aspace_size = aspace_size\n",
    "        self.primary = self.get_model(name,task) \n",
    "        self.visual = False \n",
    "        self.name = name\n",
    "        self.task = task\n",
    "\n",
    "    def get_model(self,name,task):\n",
    "        print('DDQN_Final_'+task+'.h5')\n",
    "        model = load_model('DDQN_Final_'+task+'.h5')\n",
    "        return model \n",
    "    \n",
    "    def act(self, state):\n",
    "        state = np.reshape(state, (1, self.sspace_size))\n",
    "        primary_out = self.primary.predict(state)\n",
    "        a = np.argmax(primary_out[0])\n",
    "        return a"
   ]
  },
  {
   "cell_type": "code",
   "execution_count": 3,
   "metadata": {},
   "outputs": [],
   "source": [
    "def test(model, model_save = False, task='task1'):\n",
    "    env = gym.make('CartPole-v1')\n",
    "    env.seed(seed_value) \n",
    "    np.random.seed(seed_value)\n",
    "\n",
    "    MAX_EPISODE_LEN = 500\n",
    "\n",
    "    agent = TestAgent(env.observation_space.shape[0], env.action_space.n,name=model,task=task)\n",
    "    score_list = []\n",
    "    recent_scores = deque(maxlen=100)\n",
    "    enough = 0\n",
    "\n",
    "    for ep in range(100):\n",
    "        done = 0 \n",
    "        score = 0\n",
    "        st = env.reset()\n",
    "\n",
    "        while not done:\n",
    "            if agent.visual:\n",
    "                env.render()\n",
    "            \n",
    "            if model.endswith('DQN'): \n",
    "                at = agent.act(st)\n",
    "                \n",
    "            st_, rt, done, info = env.step(at)\n",
    "            rt = rt if done == 0 or score == MAX_EPISODE_LEN-1 else -100\n",
    "            \n",
    "\n",
    "            score += rt \n",
    "            st = st_ \n",
    "\n",
    "            if score == MAX_EPISODE_LEN:\n",
    "                done = 1\n",
    "            \n",
    "            if done:\n",
    "                score = score if score == MAX_EPISODE_LEN else score + 100\n",
    "                score_list.append(score)\n",
    "                recent_scores.append(score)\n",
    "                mean_score = np.average(recent_scores)\n",
    "                print('episode:', ep, 'score:', score, 'mean of recent scores:', mean_score)\n",
    "                \n",
    "        \n",
    "    plt.plot(score_list)\n",
    "    plt.show()"
   ]
  },
  {
   "cell_type": "markdown",
   "metadata": {},
   "source": [
    "### Uncomment and Run one of the below for corresponding task's model testing"
   ]
  },
  {
   "cell_type": "code",
   "execution_count": 4,
   "metadata": {},
   "outputs": [
    {
     "name": "stdout",
     "output_type": "stream",
     "text": [
      "CartPoleEnv Task1 - Version 0.2.0, Noise case: 1\n",
      "DDQN_Final_task1.h5\n",
      "WARNING:tensorflow:From /opt/anaconda3/envs/mlproject/lib/python3.6/site-packages/tensorflow/python/ops/resource_variable_ops.py:435: colocate_with (from tensorflow.python.framework.ops) is deprecated and will be removed in a future version.\n",
      "Instructions for updating:\n",
      "Colocations handled automatically by placer.\n",
      "WARNING:tensorflow:From /opt/anaconda3/envs/mlproject/lib/python3.6/site-packages/tensorflow/python/ops/math_ops.py:3066: to_int32 (from tensorflow.python.ops.math_ops) is deprecated and will be removed in a future version.\n",
      "Instructions for updating:\n",
      "Use tf.cast instead.\n"
     ]
    },
    {
     "name": "stderr",
     "output_type": "stream",
     "text": [
      "/opt/anaconda3/envs/mlproject/lib/python3.6/site-packages/gym/logger.py:30: UserWarning: \u001b[33mWARN: Box bound precision lowered by casting to float32\u001b[0m\n",
      "  warnings.warn(colorize('%s: %s'%('WARN', msg % args), 'yellow'))\n",
      "/opt/anaconda3/envs/mlproject/lib/python3.6/site-packages/gym/logger.py:30: UserWarning: \u001b[33mWARN: Environment '<class 'gym.envs.classic_control.cartpole.CartPoleEnv'>' has deprecated methods '_step' and '_reset' rather than 'step' and 'reset'. Compatibility code invoked. Set _gym_disable_underscore_compat = True to disable this behavior.\u001b[0m\n",
      "  warnings.warn(colorize('%s: %s'%('WARN', msg % args), 'yellow'))\n"
     ]
    },
    {
     "name": "stdout",
     "output_type": "stream",
     "text": [
      "episode: 0 score: 500.0 mean of recent scores: 500.0\n",
      "episode: 1 score: 500.0 mean of recent scores: 500.0\n",
      "episode: 2 score: 500.0 mean of recent scores: 500.0\n",
      "episode: 3 score: 500.0 mean of recent scores: 500.0\n",
      "episode: 4 score: 500.0 mean of recent scores: 500.0\n",
      "episode: 5 score: 500.0 mean of recent scores: 500.0\n",
      "episode: 6 score: 500.0 mean of recent scores: 500.0\n",
      "episode: 7 score: 500.0 mean of recent scores: 500.0\n",
      "episode: 8 score: 500.0 mean of recent scores: 500.0\n",
      "episode: 9 score: 500.0 mean of recent scores: 500.0\n",
      "episode: 10 score: 500.0 mean of recent scores: 500.0\n",
      "episode: 11 score: 500.0 mean of recent scores: 500.0\n",
      "episode: 12 score: 500.0 mean of recent scores: 500.0\n",
      "episode: 13 score: 500.0 mean of recent scores: 500.0\n",
      "episode: 14 score: 500.0 mean of recent scores: 500.0\n",
      "episode: 15 score: 500.0 mean of recent scores: 500.0\n",
      "episode: 16 score: 500.0 mean of recent scores: 500.0\n",
      "episode: 17 score: 500.0 mean of recent scores: 500.0\n",
      "episode: 18 score: 500.0 mean of recent scores: 500.0\n",
      "episode: 19 score: 500.0 mean of recent scores: 500.0\n",
      "episode: 20 score: 500.0 mean of recent scores: 500.0\n",
      "episode: 21 score: 500.0 mean of recent scores: 500.0\n",
      "episode: 22 score: 500.0 mean of recent scores: 500.0\n",
      "episode: 23 score: 500.0 mean of recent scores: 500.0\n",
      "episode: 24 score: 500.0 mean of recent scores: 500.0\n",
      "episode: 25 score: 500.0 mean of recent scores: 500.0\n",
      "episode: 26 score: 500.0 mean of recent scores: 500.0\n",
      "episode: 27 score: 500.0 mean of recent scores: 500.0\n",
      "episode: 28 score: 500.0 mean of recent scores: 500.0\n",
      "episode: 29 score: 500.0 mean of recent scores: 500.0\n",
      "episode: 30 score: 500.0 mean of recent scores: 500.0\n",
      "episode: 31 score: 500.0 mean of recent scores: 500.0\n",
      "episode: 32 score: 500.0 mean of recent scores: 500.0\n",
      "episode: 33 score: 500.0 mean of recent scores: 500.0\n",
      "episode: 34 score: 500.0 mean of recent scores: 500.0\n",
      "episode: 35 score: 500.0 mean of recent scores: 500.0\n",
      "episode: 36 score: 500.0 mean of recent scores: 500.0\n",
      "episode: 37 score: 500.0 mean of recent scores: 500.0\n",
      "episode: 38 score: 500.0 mean of recent scores: 500.0\n",
      "episode: 39 score: 500.0 mean of recent scores: 500.0\n",
      "episode: 40 score: 500.0 mean of recent scores: 500.0\n",
      "episode: 41 score: 500.0 mean of recent scores: 500.0\n",
      "episode: 42 score: 500.0 mean of recent scores: 500.0\n",
      "episode: 43 score: 500.0 mean of recent scores: 500.0\n",
      "episode: 44 score: 500.0 mean of recent scores: 500.0\n",
      "episode: 45 score: 500.0 mean of recent scores: 500.0\n",
      "episode: 46 score: 500.0 mean of recent scores: 500.0\n",
      "episode: 47 score: 500.0 mean of recent scores: 500.0\n",
      "episode: 48 score: 500.0 mean of recent scores: 500.0\n",
      "episode: 49 score: 500.0 mean of recent scores: 500.0\n",
      "episode: 50 score: 500.0 mean of recent scores: 500.0\n",
      "episode: 51 score: 500.0 mean of recent scores: 500.0\n",
      "episode: 52 score: 500.0 mean of recent scores: 500.0\n",
      "episode: 53 score: 500.0 mean of recent scores: 500.0\n",
      "episode: 54 score: 500.0 mean of recent scores: 500.0\n",
      "episode: 55 score: 500.0 mean of recent scores: 500.0\n",
      "episode: 56 score: 500.0 mean of recent scores: 500.0\n",
      "episode: 57 score: 500.0 mean of recent scores: 500.0\n",
      "episode: 58 score: 500.0 mean of recent scores: 500.0\n",
      "episode: 59 score: 500.0 mean of recent scores: 500.0\n",
      "episode: 60 score: 500.0 mean of recent scores: 500.0\n",
      "episode: 61 score: 500.0 mean of recent scores: 500.0\n",
      "episode: 62 score: 500.0 mean of recent scores: 500.0\n",
      "episode: 63 score: 500.0 mean of recent scores: 500.0\n",
      "episode: 64 score: 500.0 mean of recent scores: 500.0\n",
      "episode: 65 score: 500.0 mean of recent scores: 500.0\n",
      "episode: 66 score: 500.0 mean of recent scores: 500.0\n",
      "episode: 67 score: 500.0 mean of recent scores: 500.0\n",
      "episode: 68 score: 500.0 mean of recent scores: 500.0\n",
      "episode: 69 score: 500.0 mean of recent scores: 500.0\n",
      "episode: 70 score: 500.0 mean of recent scores: 500.0\n",
      "episode: 71 score: 500.0 mean of recent scores: 500.0\n",
      "episode: 72 score: 500.0 mean of recent scores: 500.0\n",
      "episode: 73 score: 500.0 mean of recent scores: 500.0\n",
      "episode: 74 score: 500.0 mean of recent scores: 500.0\n",
      "episode: 75 score: 500.0 mean of recent scores: 500.0\n",
      "episode: 76 score: 500.0 mean of recent scores: 500.0\n",
      "episode: 77 score: 500.0 mean of recent scores: 500.0\n",
      "episode: 78 score: 500.0 mean of recent scores: 500.0\n",
      "episode: 79 score: 500.0 mean of recent scores: 500.0\n",
      "episode: 80 score: 500.0 mean of recent scores: 500.0\n",
      "episode: 81 score: 500.0 mean of recent scores: 500.0\n",
      "episode: 82 score: 500.0 mean of recent scores: 500.0\n",
      "episode: 83 score: 500.0 mean of recent scores: 500.0\n",
      "episode: 84 score: 500.0 mean of recent scores: 500.0\n",
      "episode: 85 score: 500.0 mean of recent scores: 500.0\n",
      "episode: 86 score: 500.0 mean of recent scores: 500.0\n",
      "episode: 87 score: 500.0 mean of recent scores: 500.0\n",
      "episode: 88 score: 500.0 mean of recent scores: 500.0\n",
      "episode: 89 score: 500.0 mean of recent scores: 500.0\n",
      "episode: 90 score: 500.0 mean of recent scores: 500.0\n",
      "episode: 91 score: 500.0 mean of recent scores: 500.0\n",
      "episode: 92 score: 500.0 mean of recent scores: 500.0\n",
      "episode: 93 score: 500.0 mean of recent scores: 500.0\n",
      "episode: 94 score: 500.0 mean of recent scores: 500.0\n",
      "episode: 95 score: 500.0 mean of recent scores: 500.0\n",
      "episode: 96 score: 500.0 mean of recent scores: 500.0\n",
      "episode: 97 score: 500.0 mean of recent scores: 500.0\n",
      "episode: 98 score: 500.0 mean of recent scores: 500.0\n",
      "episode: 99 score: 500.0 mean of recent scores: 500.0\n"
     ]
    },
    {
     "data": {
      "image/png": "[encoded data removed]",
      "text/plain": [
       "<Figure size 432x288 with 1 Axes>"
      ]
     },
     "metadata": {
      "needs_background": "light"
     },
     "output_type": "display_data"
    }
   ],
   "source": [
    "'''Run one of the below for corresponding task's model testing'''\n",
    "\n",
    "test(model='DDQN', task='task1')\n",
    "# test(model='DDQN', task='task2')\n",
    "# test(model='DDQN', task='task3')"
   ]
  },
  {
   "cell_type": "code",
   "execution_count": null,
   "metadata": {},
   "outputs": [],
   "source": []
  }
 ],
 "metadata": {
  "kernelspec": {
   "display_name": "mlproject",
   "language": "python",
   "name": "mlproject"
  },
  "language_info": {
   "codemirror_mode": {
    "name": "ipython",
    "version": 3
   },
   "file_extension": ".py",
   "mimetype": "text/x-python",
   "name": "python",
   "nbconvert_exporter": "python",
   "pygments_lexer": "ipython3",
   "version": "3.6.10"
  }
 },
 "nbformat": 4,
 "nbformat_minor": 4
}
